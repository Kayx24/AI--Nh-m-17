{
 "cells": [
  {
   "cell_type": "markdown",
   "metadata": {},
   "source": [
    "# Adversarial Search: Playing Connect 4\n",
    "\n",
    "Student Name: [Add your name]\n",
    "\n",
    "I have used the following AI tools: [list tools]\n",
    "\n",
    "I understand that my submission needs to be my own work: [your initials]"
   ]
  },
  {
   "cell_type": "markdown",
   "metadata": {},
   "source": [
    "## Learning Outcomes\n",
    "\n",
    "* Implement adversarial search algorithms for strategic game play.\n",
    "* Analyze and optimize search in complex game spaces.\n",
    "* Design effective heuristic evaluation functions.\n",
    "* Compare performance across different agent strategies.\n",
    "* Evaluate algorithmic trade-offs between decision quality and efficiency."
   ]
  },
  {
   "cell_type": "markdown",
   "metadata": {},
   "source": [
    "## Instructions\n",
    "\n",
    "Total Points: Undergraduates 100, graduate students 110\n",
    "\n",
    "Complete this notebook and submit it. The notebook needs to be a complete project report with your implementation, documentation including a short discussion of how your implementation works and your design choices, and experimental results (e.g., tables and charts with simulation results) with a short discussion of what they mean. Use the provided notebook cells and insert additional code and markdown cells as needed. Submit the completely rendered notebook as a HTML file. \n",
    "\n",
    "\n",
    "## Introduction\n",
    "\n",
    "You will implement different versions of agents that play Connect 4:\n",
    "\n",
    "> \"Connect 4 is a two-player connection board game, in which the players choose a color and then take turns dropping colored discs into a seven-column, six-row vertically suspended grid. The pieces fall straight down, occupying the lowest available space within the column. The objective of the game is to be the first to form a horizontal, vertical, or diagonal line of four of one's own discs.\" (see [Connect Four on Wikipedia](https://en.wikipedia.org/wiki/Connect_Four))\n",
    "\n",
    "Note that [Connect-4 has been solved](https://en.wikipedia.org/wiki/Connect_Four#Mathematical_solution)\n",
    "in 1988. A connect-4 solver with a discussion of how to solve different parts of the problem can be found here: https://connect4.gamesolver.org/en/"
   ]
  },
  {
   "cell_type": "markdown",
   "metadata": {},
   "source": [
    "## Task 1: Defining the Search Problem [10 point]\n",
    "\n",
    "Define the components of the search problem:\n",
    "\n",
    "* Initial state\n",
    "* Actions\n",
    "* Transition model (result function)\n",
    "* Goal state (terminal state and utility)\n",
    "\n",
    "Describe each component and then implement it as a function that can be used by search algorithms."
   ]
  },
  {
   "cell_type": "code",
   "execution_count": 2,
   "metadata": {},
   "outputs": [
    {
     "name": "stdout",
     "output_type": "stream",
     "text": [
      "Initial actions: [0, 1, 2, 3, 4, 5, 6]\n",
      "After player 1 moves at column 3:\n",
      "[0, 0, 0, 0, 0, 0, 0]\n",
      "[0, 0, 0, 0, 0, 0, 0]\n",
      "[0, 0, 0, 0, 0, 0, 0]\n",
      "[0, 0, 0, 0, 0, 0, 0]\n",
      "[0, 0, 0, 0, 0, 0, 0]\n",
      "[0, 0, 0, 1, 0, 0, 0]\n",
      "Terminal? False\n",
      "Utility: 0\n"
     ]
    }
   ],
   "source": [
    "# Your code/answer goes here.\n",
    "# ==============================\n",
    "# Connect 4 - Task 1: Search Problem Definition\n",
    "# ==============================\n",
    "\n",
    "ROWS = 6\n",
    "COLS = 7\n",
    "\n",
    "# ------------------------------------------------\n",
    "# 1. Initial state\n",
    "# ------------------------------------------------\n",
    "def initial_state():\n",
    "    \"\"\"\n",
    "    Trả về bàn cờ trống ban đầu (6 hàng x 7 cột).\n",
    "    0 = ô trống, 1 = người chơi 1, -1 = người chơi 2\n",
    "    \"\"\"\n",
    "    return [[0 for _ in range(COLS)] for _ in range(ROWS)]\n",
    "\n",
    "\n",
    "# ------------------------------------------------\n",
    "# 2. Actions\n",
    "# ------------------------------------------------\n",
    "def actions(state):\n",
    "    \"\"\"\n",
    "    Trả về danh sách các cột hợp lệ mà người chơi có thể thả quân vào.\n",
    "    Một cột hợp lệ nếu ô trên cùng của nó (state[0][col]) vẫn còn trống.\n",
    "    \"\"\"\n",
    "    return [col for col in range(COLS) if state[0][col] == 0]\n",
    "\n",
    "\n",
    "# ------------------------------------------------\n",
    "# 3. Transition Model (Result Function)\n",
    "# ------------------------------------------------\n",
    "def result(state, action, player):\n",
    "    \"\"\"\n",
    "    Thực hiện hành động 'action' (thả quân vào cột tương ứng)\n",
    "    và trả về trạng thái bàn cờ mới.\n",
    "    \n",
    "    - state: bàn cờ hiện tại\n",
    "    - action: cột muốn thả quân (0..6)\n",
    "    - player: 1 (người chơi 1) hoặc -1 (người chơi 2)\n",
    "    \"\"\"\n",
    "    new_state = [row[:] for row in state]  # tạo bản sao bàn cờ\n",
    "    for row in reversed(range(ROWS)):      # thả quân từ dưới lên\n",
    "        if new_state[row][action] == 0:\n",
    "            new_state[row][action] = player\n",
    "            break\n",
    "    return new_state\n",
    "\n",
    "\n",
    "# ------------------------------------------------\n",
    "# 4. Goal State (Terminal Test) & Utility Function\n",
    "# ------------------------------------------------\n",
    "def terminal_test(state):\n",
    "    \"\"\"\n",
    "    Kiểm tra xem trò chơi đã kết thúc chưa:\n",
    "    - Có người thắng (4 quân liên tiếp)\n",
    "    - Hoặc bàn cờ đầy (hòa)\n",
    "    \"\"\"\n",
    "    return check_winner(state) != 0 or all(state[0][c] != 0 for c in range(COLS))\n",
    "\n",
    "\n",
    "def check_winner(state):\n",
    "    \"\"\"\n",
    "    Kiểm tra xem có người chơi nào thắng chưa.\n",
    "    Trả về 1 nếu người chơi 1 thắng, -1 nếu người chơi 2 thắng, 0 nếu chưa có ai thắng.\n",
    "    \"\"\"\n",
    "    for r in range(ROWS):\n",
    "        for c in range(COLS):\n",
    "            player = state[r][c]\n",
    "            if player == 0:\n",
    "                continue\n",
    "\n",
    "            # kiểm tra 4 hướng: ngang, dọc, chéo phải xuống, chéo trái xuống\n",
    "            if c + 3 < COLS and all(state[r][c + i] == player for i in range(4)):\n",
    "                return player\n",
    "            if r + 3 < ROWS and all(state[r + i][c] == player for i in range(4)):\n",
    "                return player\n",
    "            if r + 3 < ROWS and c + 3 < COLS and all(state[r + i][c + i] == player for i in range(4)):\n",
    "                return player\n",
    "            if r + 3 < ROWS and c - 3 >= 0 and all(state[r + i][c - i] == player for i in range(4)):\n",
    "                return player\n",
    "    return 0\n",
    "\n",
    "\n",
    "def utility(state, player):\n",
    "    \"\"\"\n",
    "    Trả về giá trị tiện ích (utility):\n",
    "    +1 nếu 'player' thắng, -1 nếu thua, 0 nếu hòa hoặc chưa kết thúc.\n",
    "    \"\"\"\n",
    "    winner = check_winner(state)\n",
    "    if winner == player:\n",
    "        return 1\n",
    "    elif winner == -player:\n",
    "        return -1\n",
    "    else:\n",
    "        return 0\n",
    "\n",
    "s = initial_state()\n",
    "print(\"Initial actions:\", actions(s))  # [0,1,2,3,4,5,6]\n",
    "\n",
    "s2 = result(s, 3, 1)\n",
    "print(\"After player 1 moves at column 3:\")\n",
    "for row in s2:\n",
    "    print(row)\n",
    "\n",
    "print(\"Terminal?\", terminal_test(s2))\n",
    "print(\"Utility:\", utility(s2, 1))\n"
   ]
  },
  {
   "cell_type": "markdown",
   "metadata": {},
   "source": [
    "How big is the state space? Give an estimate and explain it."
   ]
  },
  {
   "cell_type": "code",
   "execution_count": null,
   "metadata": {},
   "outputs": [],
   "source": [
    "# Your answer goes here.\n",
    "# Ước lượng kích thước không gian trạng thái (State space) của trò chơi Connect 4\n",
    "\n",
    "# 1. Giới hạn trên (ước lượng thô ban đầu)\n",
    "# Bàn cờ Connect 4 có 6 hàng × 7 cột = 42 ô.\n",
    "# Mỗi ô có thể ở 3 trạng thái:\n",
    "# Trống (0),\n",
    "# Quân của người chơi 1 (1),\n",
    "# Quân của người chơi 2 (-1).\n",
    "# Nếu không xét quy tắc nào, tổng số trạng thái có thể là:\n",
    "# 3^42 = 109,418,989,131,512,359,209 ≈ 1.09 x 10^20\n",
    "# Đây là giới hạn trên lý thuyết (naïve upper bound), vì nó tính cả những bàn cờ không hợp lệ (vi phạm luật trọng lực hoặc thứ tự lượt chơi).\n",
    "\n",
    "# 2. Lý do không gian thật nhỏ hơn rất nhiều\n",
    "# Trong thực tế, phần lớn các bàn cờ trong không thể xảy ra trong trò chơi Connect 4 thật, vì:\n",
    "# Luật trọng lực (gravity):\n",
    "# Quân cờ luôn “rơi” xuống ô trống thấp nhất của cột, không thể có quân lơ lửng.\n",
    "# Luân phiên lượt đi:\n",
    "# Số quân của 2 người chơi chỉ có thể chênh lệch nhiều nhất là 1.\n",
    "# Luật kết thúc:\n",
    "# Nếu một bên đã thắng (4 quân liên tiếp), trò chơi sẽ dừng lại ngay — không thể có trạng thái nào có nhiều hơn 4 quân liên tiếp được đặt thêm sau đó.\n",
    "# Những ràng buộc này loại bỏ hầu hết các cấu hình không hợp lệ, khiến không gian trạng thái thực tế nhỏ hơn rất nhiều.\n",
    "\n",
    "# 3.Kết quả chính xác (đã được tính toán)\n",
    "# Theo các nghiên cứu đã công bố (và được dùng trong các dự án giải Connect 4 chuyên dụng),\n",
    "# tổng số trạng thái hợp lệ (legal positions) trong Connect 4 là: 4.53 x 10^12\n",
    "# Tức là khoảng 4.5 nghìn tỷ trạng thái hợp lệ.\n",
    "# So sánh: 3^42 / (4.53 x 10^12) ≈ 2.4 x 10^7\n",
    "# Giới hạn lý thuyết lớn gấp khoảng 24 triệu lần so với không gian thật.\n",
    "\n",
    "# 4. Ý nghĩa đối với tìm kiếm (search)\n",
    "# Mặc dù nhỏ hơn nhiều so với 10^20 nhưng 4.5 nghìn tỷ trạng thái vẫn là một con số khổng lồ —việc duyệt toàn bộ không gian này là bất khả thi với Minimax thuần túy\n",
    "# Vì vậy, các thuật toán chơi Connect 4 thực tế phải dùng:\n",
    "#     Alpha–Beta pruning để cắt nhánh không cần thiết,\n",
    "#     Heuristic evaluation để ước lượng giá trị trạng thái trung gian,\n",
    "#     Bảng nhớ (transposition table) và chiến lược chọn nước đi thông minh"
   ]
  },
  {
   "cell_type": "markdown",
   "metadata": {},
   "source": [
    "How big is the game tree that minimax search will go through? Give an estimate and explain it."
   ]
  },
  {
   "cell_type": "code",
   "execution_count": null,
   "metadata": {},
   "outputs": [],
   "source": [
    "# Your answer goes here.\n",
    "# Ý tưởng chính\n",
    "# Kích thước game tree mà Minimax phải duyệt phụ thuộc vào:\n",
    "#   b = branching factor (số nước đi trung bình trên mỗi bước), và\n",
    "#   d = độ sâu (số plies/moves tối đa mà ta xem xét).\n",
    "# Một ước lượng thô thường là nodes ≈ b^d. Với Connect-4:\n",
    "# tối đa mỗi bước có 7 lựa chọn (7 cột), nhưng về trung bình số cột khả dụng nhỏ hơn (một số cột dần đầy). Ta có thể dùng b ≈ 5–6 làm ước lượng hợp lý.\n",
    "# một ván đầy có tối đa 42 nước (6×7), tức d ≤ 42\n",
    "# Tính nhanh\n",
    "# 1) Nếu Minimax duyệt toàn bộ đến cuối ván (d = 42)\n",
    "# Giả sử b=5.5 (một giá trị trung bình giữa 5 và 6),\n",
    "# Số nút ≈ 5.5^42 ≈ 1.25 x 10^31 \n",
    "# Kết luận: không thể thực hiện (con số khổng lồ, vượt xa khả năng máy tính thực tế).\n",
    "# 2) Nếu Minimax chỉ duyệt tới các độ sâu thực tế thường dùng (ví dụ d = 8, 10, 12, 16)\n",
    "# (giả sử vẫnb=5.5):\n",
    "#     d = 6 → ≈ 2.8 x 10^4 nut\n",
    "#     d = 8 → ≈ 8.4 x 10^5 nut\n",
    "#     d = 10 → ≈ 2.5 x 10^7 nut\n",
    "#     d=12 → ≈ 7.7 x 10^8 nut\n",
    "#     d= 16 → ≈ 7 x 10^11 nut\n",
    "# Những con số này cho thấy: duyệt đến 8–12 plies là khả thi trên máy thường, còn sâu hơn (14–16+) đã bắt đầu rất nặng.\n",
    "# 3) Tác dụng của Alpha–Beta pruning (với ordering tốt)\n",
    "# Với alpha–beta và thứ tự đánh giá nước đi tốt, hiệu quả thường xấp xỉ giảm branching về b^1/2\n",
    "# Nếu hiệu ứng này đạt được, thì “hiệu dụng” b ≈ sqrt(5.5) ≈ 2.345\n",
    "# Với d = 42, số nút xấp xỉ 2.345^42 ≈ 3.5 x 10^15 — vẫn rất lớn, nhưng nhỏ hơn b^d ban đầu hàng chục mũ.\n",
    "# Tức là alpha–beta có thể giảm đáng kể kích thước tree nhưng vẫn không biến việc duyệt toàn bộ đến độ sâu 42 thành khả thi; cần thêm transposition tables, symmetry reductions, heuristics, v.v.\n",
    "# So sánh với không gian trạng thái\n",
    "# Số vị trí hợp lệ (legal positions) của Connect-4 4.531985219092 × 10^12 (khoảng 4.53 nghìn tỷ)\n",
    "# Tuy nhiên số cây trò chơi (số chuỗi nước đi khác nhau, tức số lá nếu duyệt tới các kết thúc khác nhau) thường lớn hơn số trạng thái hợp lệ vì nhiều chuỗi khác nhau có thể dẫn tới cùng một trạng thái (những trạng thái lặp lại được lưu trong bảng băm sẽ giúp cắt bớt công việc).\n",
    "# Kết luận ngắn gọn\n",
    "# Game tree của Minimax đầy đủ (duyệt tới tất cả các plies hợp lệ) là khổng lồ — nếu tính theo b^d với b ≈ 5.5 và d <= 42 ta có 1.25 x 10^31 nút (ước lượng thô).\n",
    "# Thực tế người ta không duyệt toàn bộ: thường giới hạn độ sâu (8–12 plies), dùng alpha–beta pruning, transposition tables, move ordering, và heuristics. Những tối ưu này làm Minimax khả thi trong thực tế và thậm chí cho phép giải (strong-solve) Connect-4 bằng các phương pháp chuyên biệt. (Số trạng thái hợp lệ của trò chơi≈ 4.53 x 10^12"
   ]
  },
  {
   "cell_type": "markdown",
   "metadata": {},
   "source": [
    "## Task 2: Game Environment and Random Agent [25 point]\n",
    "\n",
    "Use a numpy character array as the board."
   ]
  },
  {
   "cell_type": "code",
   "execution_count": 4,
   "metadata": {},
   "outputs": [
    {
     "name": "stdout",
     "output_type": "stream",
     "text": [
      "[[0 0 0 0 0 0 0]\n",
      " [0 0 0 0 0 0 0]\n",
      " [0 0 0 0 0 0 0]\n",
      " [0 0 0 0 0 0 0]\n",
      " [0 0 0 0 0 0 0]\n",
      " [0 0 0 0 0 0 0]]\n"
     ]
    }
   ],
   "source": [
    "import numpy as np\n",
    "\n",
    "def empty_board(shape=(6, 7)):\n",
    "    return np.full(shape=shape, fill_value=0)\n",
    "\n",
    "print(empty_board())"
   ]
  },
  {
   "cell_type": "markdown",
   "metadata": {},
   "source": [
    "The standard board is $6 \\times 7$ but you can use smaller boards to test your code. Instead of colors (red and yellow), I use 1 and -1 to represent the players. Make sure that your agent functions all have the from: `agent_type(board, player = 1)`, where board is the current board position (in the format above) and player is the player whose next move it is and who the agent should play (as 1 and -1)."
   ]
  },
  {
   "cell_type": "code",
   "execution_count": 5,
   "metadata": {
    "tags": []
   },
   "outputs": [
    {
     "data": {
      "image/png": "[encoded data removed]",
      "text/plain": [
       "<Figure size 640x480 with 1 Axes>"
      ]
     },
     "metadata": {},
     "output_type": "display_data"
    }
   ],
   "source": [
    "# Visualization code by Randolph Rankin\n",
    "\n",
    "import matplotlib.pyplot as plt\n",
    "\n",
    "def visualize(board):\n",
    "    plt.axes()\n",
    "    rectangle=plt.Rectangle((-0.5,len(board)*-1+0.5),len(board[0]),len(board),fc='blue')\n",
    "    circles=[]\n",
    "    for i,row in enumerate(board):\n",
    "        for j,val in enumerate(row):\n",
    "            color='white' if val==0 else 'red' if val==1 else 'yellow'\n",
    "            circles.append(plt.Circle((j,i*-1),0.4,fc=color))\n",
    "\n",
    "    plt.gca().add_patch(rectangle)\n",
    "    for circle in circles:\n",
    "        plt.gca().add_patch(circle)\n",
    "\n",
    "    plt.axis('scaled')\n",
    "    plt.show()\n",
    "    \n",
    "board = [[0, 0, 0, 0, 0, 0, 0],\n",
    "         [0, 0, 0, 0, 0, 0, 0],\n",
    "         [0, 0, 0, 0, 0, 0, 0],\n",
    "         [0, 0, 0, 1, 0, 0, 0],\n",
    "         [0, 0, 0, 1, 0, 0, 0],\n",
    "         [0,-1,-1, 1,-1, 0, 0]]\n",
    "visualize(board)"
   ]
  },
  {
   "cell_type": "markdown",
   "metadata": {
    "tags": []
   },
   "source": [
    "Implement helper functions for:\n",
    "\n",
    "* A check for available actions in each state `actions(state)`.\n",
    "* The transition model `result(state, player, action)`.\n",
    "* Check for terminal states `terminal(state)`.\n",
    "* The utility function `utility(state, player)`.\n",
    "\n",
    "The player argument is used so your agent can play red or yellow.\n",
    "Make sure that all these functions work with boards of different sizes (number of columns and rows).\n",
    "You can follow the [tic-tac-toe example from class.](https://colab.research.google.com/github/mhahsler/CS7320-AI/blob/master/Games/tictactoe_definitions.ipynb)"
   ]
  },
  {
   "cell_type": "code",
   "execution_count": 3,
   "metadata": {},
   "outputs": [
    {
     "name": "stdout",
     "output_type": "stream",
     "text": [
      "Initial Board:\n",
      " [[' ' ' ' ' ' ' ' ' ' ' ' ' ']\n",
      " [' ' ' ' ' ' ' ' ' ' ' ' ' ']\n",
      " [' ' ' ' ' ' ' ' ' ' ' ' ' ']\n",
      " [' ' ' ' ' ' ' ' ' ' ' ' ' ']\n",
      " [' ' ' ' ' ' ' ' ' ' ' ' ' ']\n",
      " [' ' ' ' ' ' ' ' ' ' ' ' ' ']]\n",
      "Available actions: [0, 1, 2, 3, 4, 5, 6]\n",
      "\n",
      "After player R moves at column 1:\n",
      "[[' ' ' ' ' ' ' ' ' ' ' ' ' ']\n",
      " [' ' ' ' ' ' ' ' ' ' ' ' ' ']\n",
      " [' ' ' ' ' ' ' ' ' ' ' ' ' ']\n",
      " [' ' ' ' ' ' ' ' ' ' ' ' ' ']\n",
      " [' ' ' ' ' ' ' ' ' ' ' ' ' ']\n",
      " [' ' 'R' ' ' ' ' ' ' ' ' ' ']]\n",
      "Terminal? False\n",
      "Utility (for R): 0\n"
     ]
    }
   ],
   "source": [
    "# Your code/ answer goes here.\n",
    "import numpy as np\n",
    "import random\n",
    "\n",
    "# ==============================\n",
    "# Connect 4 - Task 2: Game Environment and Random Agent\n",
    "# ==============================\n",
    "\n",
    "# Hàm khởi tạo bàn cờ\n",
    "def initial_state(rows=6, cols=7):\n",
    "    \"\"\"\n",
    "    Trả về bàn cờ trống (numpy character array)\n",
    "    rows: số hàng\n",
    "    cols: số cột\n",
    "    \"\"\"\n",
    "    return np.full((rows, cols), ' ', dtype=str)\n",
    "\n",
    "\n",
    "# ------------------------------------------------\n",
    "# 1. Actions: trả về danh sách cột còn trống\n",
    "# ------------------------------------------------\n",
    "def actions(state):\n",
    "    \"\"\"\n",
    "    Trả về danh sách các cột có thể thả quân (ô trên cùng còn trống).\n",
    "    \"\"\"\n",
    "    rows, cols = state.shape\n",
    "    return [c for c in range(cols) if state[0, c] == ' ']\n",
    "\n",
    "\n",
    "# ------------------------------------------------\n",
    "# 2. Transition model: thả quân vào cột được chọn\n",
    "# ------------------------------------------------\n",
    "def result(state, player, action):\n",
    "    \"\"\"\n",
    "    Trả về trạng thái mới sau khi player thả quân vào cột action.\n",
    "    player: 'R' hoặc 'Y'\n",
    "    \"\"\"\n",
    "    new_state = np.copy(state)\n",
    "    rows, cols = state.shape\n",
    "\n",
    "    for r in range(rows - 1, -1, -1):  # thả từ dưới lên\n",
    "        if new_state[r, action] == ' ':\n",
    "            new_state[r, action] = player\n",
    "            break\n",
    "    return new_state\n",
    "\n",
    "\n",
    "# ------------------------------------------------\n",
    "# 3. Kiểm tra trạng thái kết thúc\n",
    "# ------------------------------------------------\n",
    "def terminal(state):\n",
    "    \"\"\"\n",
    "    Trả về True nếu:\n",
    "    - Một người chơi thắng (4 liên tiếp)\n",
    "    - Hoặc bàn cờ đầy (hòa)\n",
    "    \"\"\"\n",
    "    return check_winner(state) is not None or all(state[0, c] != ' ' for c in range(state.shape[1]))\n",
    "\n",
    "\n",
    "# ------------------------------------------------\n",
    "# 4. Kiểm tra người thắng\n",
    "# ------------------------------------------------\n",
    "def check_winner(state):\n",
    "    \"\"\"\n",
    "    Kiểm tra xem có người chơi nào thắng chưa (4 liên tiếp).\n",
    "    Trả về 'R' hoặc 'Y' nếu có người thắng, None nếu chưa.\n",
    "    \"\"\"\n",
    "    rows, cols = state.shape\n",
    "    for r in range(rows):\n",
    "        for c in range(cols):\n",
    "            if state[r, c] == ' ':\n",
    "                continue\n",
    "            player = state[r, c]\n",
    "\n",
    "            # 4 hướng: ngang, dọc, chéo phải xuống, chéo trái xuống\n",
    "            if c + 3 < cols and all(state[r, c + i] == player for i in range(4)):\n",
    "                return player\n",
    "            if r + 3 < rows and all(state[r + i, c] == player for i in range(4)):\n",
    "                return player\n",
    "            if r + 3 < rows and c + 3 < cols and all(state[r + i, c + i] == player for i in range(4)):\n",
    "                return player\n",
    "            if r + 3 < rows and c - 3 >= 0 and all(state[r + i, c - i] == player for i in range(4)):\n",
    "                return player\n",
    "    return None\n",
    "\n",
    "\n",
    "# ------------------------------------------------\n",
    "# 5. Utility function\n",
    "# ------------------------------------------------\n",
    "def utility(state, player):\n",
    "    \"\"\"\n",
    "    Trả về giá trị tiện ích:\n",
    "    +1 nếu player thắng,\n",
    "    -1 nếu đối thủ thắng,\n",
    "    0 nếu hòa hoặc chưa kết thúc.\n",
    "    \"\"\"\n",
    "    winner = check_winner(state)\n",
    "    if winner == player:\n",
    "        return 1\n",
    "    elif winner is not None and winner != player:\n",
    "        return -1\n",
    "    else:\n",
    "        return 0\n",
    "\n",
    "\n",
    "# ------------------------------------------------\n",
    "# 6. Random Agent\n",
    "# ------------------------------------------------\n",
    "def random_agent_action(state):\n",
    "    \"\"\"\n",
    "    Chọn một hành động (cột) ngẫu nhiên trong danh sách hành động hợp lệ.\n",
    "    \"\"\"\n",
    "    legal_moves = actions(state)\n",
    "    return random.choice(legal_moves) if legal_moves else None\n",
    "\n",
    "\n",
    "# ------------------------------------------------\n",
    "# 7. Demo test\n",
    "# ------------------------------------------------\n",
    "if __name__ == \"__main__\":\n",
    "    state = initial_state(6, 7)\n",
    "    print(\"Initial Board:\\n\", state)\n",
    "    print(\"Available actions:\", actions(state))\n",
    "\n",
    "    # Player 'R' random move\n",
    "    move = random_agent_action(state)\n",
    "    state = result(state, 'R', move)\n",
    "    print(f\"\\nAfter player R moves at column {move}:\")\n",
    "    print(state)\n",
    "\n",
    "    print(\"Terminal?\", terminal(state))\n",
    "    print(\"Utility (for R):\", utility(state, 'R'))\n"
   ]
  },
  {
   "cell_type": "markdown",
   "metadata": {},
   "source": [
    "Implement an agent that plays randomly. Make sure the agent function receives as the percept the board and returns a valid action. Use an agent function definition with the following signature (arguments):\n",
    "\n",
    "`def random_player(board, player = 1): ...`\n",
    "\n",
    "The argument `player` is used for agents that do not store what color they are playing. The value passed on by the environment should be 1 ot -1 for player red and yellow, respectively.  See [Experiments section for tic-tac-toe](https://nbviewer.org/github/mhahsler/CS7320-AI/blob/master/Games/tictactoe_and_or_tree_search.ipynb#Experiments) for an example."
   ]
  },
  {
   "cell_type": "code",
   "execution_count": 1,
   "metadata": {},
   "outputs": [
    {
     "name": "stdout",
     "output_type": "stream",
     "text": [
      "Initial board:\n",
      "[[0 0 0 0 0 0 0]\n",
      " [0 0 0 0 0 0 0]\n",
      " [0 0 0 0 0 0 0]\n",
      " [0 0 0 0 0 0 0]\n",
      " [0 0 0 0 0 0 0]\n",
      " [0 0 0 0 0 0 0]]\n",
      "Available actions: [0, 1, 2, 3, 4, 5, 6]\n",
      "\n",
      "Random agent (Red) chooses column 3\n",
      "\n",
      "Board after move:\n",
      "[[0 0 0 0 0 0 0]\n",
      " [0 0 0 0 0 0 0]\n",
      " [0 0 0 0 0 0 0]\n",
      " [0 0 0 0 0 0 0]\n",
      " [0 0 0 0 0 0 0]\n",
      " [0 0 0 1 0 0 0]]\n"
     ]
    }
   ],
   "source": [
    "# Your code/ answer goes here.\n",
    "import numpy as np\n",
    "import random\n",
    "\n",
    "# =====================================================\n",
    "# Task 2 (phần mở rộng): Random Player Agent\n",
    "# =====================================================\n",
    "\n",
    "def actions(board):\n",
    "    \"\"\"Trả về danh sách các cột hợp lệ.\"\"\"\n",
    "    rows, cols = board.shape\n",
    "    return [c for c in range(cols) if board[0, c] == 0]\n",
    "\n",
    "\n",
    "def result(board, player, action):\n",
    "    \"\"\"Thực hiện hành động và trả về bàn cờ mới.\"\"\"\n",
    "    new_board = np.copy(board)\n",
    "    rows, cols = board.shape\n",
    "    for r in range(rows - 1, -1, -1):\n",
    "        if new_board[r, action] == 0:\n",
    "            new_board[r, action] = player\n",
    "            break\n",
    "    return new_board\n",
    "\n",
    "\n",
    "def random_player(board, player=1):\n",
    "    \"\"\"\n",
    "    Agent ngẫu nhiên:\n",
    "    - board: numpy array (0 = trống, 1 = đỏ, -1 = vàng)\n",
    "    - player: 1 hoặc -1\n",
    "    Trả về chỉ số cột được chọn.\n",
    "    \"\"\"\n",
    "    possible_actions = actions(board)\n",
    "    if not possible_actions:\n",
    "        return None  # Không còn hành động hợp lệ\n",
    "    return random.choice(possible_actions)\n",
    "\n",
    "# Tạo bàn cờ ban đầu (6 hàng x 7 cột)\n",
    "board = np.zeros((6, 7), dtype=int)\n",
    "\n",
    "# In bàn cờ và hành động hợp lệ\n",
    "print(\"Initial board:\")\n",
    "print(board)\n",
    "print(\"Available actions:\", actions(board))\n",
    "\n",
    "# Random player (đỏ) chọn nước đi\n",
    "move = random_player(board, player=1)\n",
    "print(f\"\\nRandom agent (Red) chooses column {move}\")\n",
    "\n",
    "# Áp dụng hành động\n",
    "board = result(board, player=1, action=move)\n",
    "print(\"\\nBoard after move:\")\n",
    "print(board)\n"
   ]
  },
  {
   "cell_type": "markdown",
   "metadata": {},
   "source": [
    "Let two random agents play against each other 1000 times. Look at the [Experiments section for tic-tac-toe](https://nbviewer.org/github/mhahsler/CS7320-AI/blob/master/Games/tictactoe_and_or_tree_search.ipynb#Experiments) to see how the environment uses the agent functions to play against each other.\n",
    "\n",
    "How often does each player win? Is the result expected?"
   ]
  },
  {
   "cell_type": "code",
   "execution_count": 2,
   "metadata": {
    "tags": []
   },
   "outputs": [
    {
     "name": "stdout",
     "output_type": "stream",
     "text": [
      "Simulated 1000 random vs random Connect-4 games (Red goes first).\n",
      "Time taken: 0.54s\n",
      "Wins - Red (player 1): 571 (57.100%)\n",
      "Wins - Yellow (player -1): 428 (42.800%)\n",
      "Draws: 1 (0.100%)\n",
      "Average moves per game: 21.60, median: 21.0\n",
      "\n",
      "Move-length distribution (moves:count) for 7..42 where count>0:\n",
      "7:18  8:3  9:21  10:12  11:33  12:23  13:49  14:28  15:38  16:35  17:54  18:34  19:61  20:31  21:63  22:51  23:52  24:48  25:50  26:41  27:37  28:40  29:34  30:26  31:22  32:17  33:18  34:16  35:10  36:16  37:2  38:4  39:6  40:1  41:3  42:3  \n"
     ]
    },
    {
     "data": {
      "text/plain": [
       "({1: 571, -1: 428, 0: 1},\n",
       " 21.599,\n",
       " 21.0,\n",
       " [(21, 63), (19, 61), (17, 54), (23, 52), (22, 51)])"
      ]
     },
     "execution_count": 2,
     "metadata": {},
     "output_type": "execute_result"
    }
   ],
   "source": [
    "# Your code/ answer goes here.\n",
    "# Retry simulation of 1000 random vs random Connect-4 games.\n",
    "import numpy as np, random, time, collections\n",
    "random.seed(0)\n",
    "np.random.seed(0)\n",
    "\n",
    "ROWS, COLS = 6, 7\n",
    "def initial_state(rows=ROWS, cols=COLS):\n",
    "    return np.zeros((rows, cols), dtype=int)\n",
    "def actions(board):\n",
    "    rows, cols = board.shape\n",
    "    return [c for c in range(cols) if board[0, c] == 0]\n",
    "def result(board, player, action):\n",
    "    new = board.copy()\n",
    "    rows, cols = new.shape\n",
    "    for r in range(rows-1, -1, -1):\n",
    "        if new[r, action] == 0:\n",
    "            new[r, action] = player\n",
    "            break\n",
    "    return new\n",
    "def check_winner(board):\n",
    "    rows, cols = board.shape\n",
    "    for r in range(rows):\n",
    "        for c in range(cols):\n",
    "            player = board[r, c]\n",
    "            if player == 0:\n",
    "                continue\n",
    "            if c + 3 < cols and all(board[r, c+i] == player for i in range(4)):\n",
    "                return player\n",
    "            if r + 3 < rows and all(board[r+i, c] == player for i in range(4)):\n",
    "                return player\n",
    "            if r + 3 < rows and c + 3 < cols and all(board[r+i, c+i] == player for i in range(4)):\n",
    "                return player\n",
    "            if r + 3 < rows and c - 3 >= 0 and all(board[r+i, c-i] == player for i in range(4)):\n",
    "                return player\n",
    "    return None\n",
    "def terminal(board):\n",
    "    return check_winner(board) is not None or all(board[0, c] != 0 for c in range(board.shape[1]))\n",
    "def random_player_action(board, player=1):\n",
    "    legal = actions(board)\n",
    "    if not legal:\n",
    "        return None\n",
    "    return random.choice(legal)\n",
    "\n",
    "def play_game(first_player=1):\n",
    "    board = initial_state()\n",
    "    player = first_player\n",
    "    moves = 0\n",
    "    while True:\n",
    "        act = random_player_action(board, player)\n",
    "        if act is None:\n",
    "            break\n",
    "        board = result(board, player, act)\n",
    "        moves += 1\n",
    "        w = check_winner(board)\n",
    "        if w is not None:\n",
    "            return int(w), moves\n",
    "        if all(board[0, c] != 0 for c in range(board.shape[1])):\n",
    "            return 0, moves\n",
    "        player = -player\n",
    "    return 0, moves\n",
    "\n",
    "N = 1000\n",
    "wins = {1:0, -1:0, 0:0}\n",
    "moves_list = []\n",
    "start = time.time()\n",
    "for i in range(N):\n",
    "    w, moves = play_game(first_player=1)\n",
    "    wins[w] += 1\n",
    "    moves_list.append(moves)\n",
    "end = time.time()\n",
    "\n",
    "total = N\n",
    "win1 = wins[1]\n",
    "win2 = wins[-1]\n",
    "draws = wins[0]\n",
    "avg_moves = sum(moves_list)/len(moves_list)\n",
    "median_moves = np.median(moves_list)\n",
    "\n",
    "print(f\"Simulated {N} random vs random Connect-4 games (Red goes first).\")\n",
    "print(f\"Time taken: {end-start:.2f}s\")\n",
    "print(f\"Wins - Red (player 1): {win1} ({win1/total:.3%})\")\n",
    "print(f\"Wins - Yellow (player -1): {win2} ({win2/total:.3%})\")\n",
    "print(f\"Draws: {draws} ({draws/total:.3%})\")\n",
    "print(f\"Average moves per game: {avg_moves:.2f}, median: {median_moves}\")\n",
    "\n",
    "cnt = collections.Counter(moves_list)\n",
    "print(\"\\nMove-length distribution (moves:count) for 7..42 where count>0:\")\n",
    "for m in range(7, 43):\n",
    "    if cnt.get(m,0)>0:\n",
    "        print(f\"{m}:{cnt[m]}\", end=\"  \")\n",
    "print()\n",
    "wins, avg_moves, median_moves, cnt.most_common(5)\n"
   ]
  },
  {
   "cell_type": "markdown",
   "metadata": {},
   "source": [
    "## Task 3: Minimax Search with Alpha-Beta Pruning\n",
    "\n",
    "### Implement the Search [20 points] \n",
    "\n",
    "Implement minimax search starting from a given board for specifying the player.\n",
    "\n",
    "__Important Notes:__ \n",
    "* You can use code from the [tic-tac-toe example](https://nbviewer.org/github/mhahsler/CS7320-AI/blob/master/Games/tictactoe_alpha_beta_tree_search.ipynb).\n",
    "* Make sure that all your agent functions have a signature consistent with the random agent above and that it [uses a class to store state information.](https://nbviewer.org/github/mhahsler/CS7320-AI/blob/master/HOWTOs/store_agent_state_information.ipynb)\n",
    "This is essential to be able play against agents from other students later.\n",
    "* The game tree for a $6 \\times 7$ board is huge and optimal algorithms need to visit each or a large percentage of all nodes in the tree. You can experiment with smaller boards like a $4 \\times 4$ board first."
   ]
  },
  {
   "cell_type": "code",
   "execution_count": 3,
   "metadata": {},
   "outputs": [
    {
     "name": "stdout",
     "output_type": "stream",
     "text": [
      "Initial Board:\n",
      " [[0 0 0 0 0 0 0]\n",
      " [0 0 0 0 0 0 0]\n",
      " [0 0 0 0 0 0 0]\n",
      " [0 0 0 0 0 0 0]\n",
      " [0 0 0 0 0 0 0]\n",
      " [0 0 0 0 0 0 0]]\n",
      "\n",
      "Minimax (Red) chooses column 2\n",
      "[[0 0 0 0 0 0 0]\n",
      " [0 0 0 0 0 0 0]\n",
      " [0 0 0 0 0 0 0]\n",
      " [0 0 0 0 0 0 0]\n",
      " [0 0 0 0 0 0 0]\n",
      " [0 0 1 0 0 0 0]]\n"
     ]
    }
   ],
   "source": [
    "# Your code/ answer goes here.\n",
    "import numpy as np\n",
    "import math\n",
    "import random\n",
    "\n",
    "# ==============================\n",
    "# Connect 4 - Task 3: Minimax Search with Alpha-Beta Pruning\n",
    "# ==============================\n",
    "\n",
    "ROWS, COLS = 6, 7\n",
    "\n",
    "# ---------- Environment helper functions ----------\n",
    "def initial_state():\n",
    "    return np.zeros((ROWS, COLS), dtype=int)\n",
    "\n",
    "def actions(board):\n",
    "    \"\"\"Return list of valid column indices where a move can be made.\"\"\"\n",
    "    return [c for c in range(COLS) if board[0, c] == 0]\n",
    "\n",
    "def result(board, player, action):\n",
    "    \"\"\"Return a new board after the player drops a disc in column `action`.\"\"\"\n",
    "    new_board = np.copy(board)\n",
    "    for r in range(ROWS - 1, -1, -1):\n",
    "        if new_board[r, action] == 0:\n",
    "            new_board[r, action] = player\n",
    "            break\n",
    "    return new_board\n",
    "\n",
    "def check_winner(board):\n",
    "    \"\"\"Return 1 or -1 if there's a winner, else None.\"\"\"\n",
    "    for r in range(ROWS):\n",
    "        for c in range(COLS):\n",
    "            player = board[r, c]\n",
    "            if player == 0:\n",
    "                continue\n",
    "            # 4 directions: horizontal, vertical, diag-right, diag-left\n",
    "            if c + 3 < COLS and all(board[r, c + i] == player for i in range(4)):\n",
    "                return player\n",
    "            if r + 3 < ROWS and all(board[r + i, c] == player for i in range(4)):\n",
    "                return player\n",
    "            if r + 3 < ROWS and c + 3 < COLS and all(board[r + i, c + i] == player for i in range(4)):\n",
    "                return player\n",
    "            if r + 3 < ROWS and c - 3 >= 0 and all(board[r + i, c - i] == player for i in range(4)):\n",
    "                return player\n",
    "    return None\n",
    "\n",
    "def terminal(board):\n",
    "    \"\"\"Return True if game over (win or full board).\"\"\"\n",
    "    return check_winner(board) is not None or all(board[0, c] != 0 for c in range(COLS))\n",
    "\n",
    "def utility(board, player):\n",
    "    \"\"\"Utility for terminal state.\"\"\"\n",
    "    winner = check_winner(board)\n",
    "    if winner == player:\n",
    "        return 1\n",
    "    elif winner == -player:\n",
    "        return -1\n",
    "    else:\n",
    "        return 0\n",
    "\n",
    "\n",
    "# ---------- Heuristic Evaluation ----------\n",
    "def evaluate_board(board, player):\n",
    "    \"\"\"\n",
    "    Heuristic: +score for 2/3 in a row for player, -score for opponent.\n",
    "    Simple pattern counting (for mid-game positions).\n",
    "    \"\"\"\n",
    "    opp = -player\n",
    "    score = 0\n",
    "\n",
    "    def check_line(line):\n",
    "        nonlocal score\n",
    "        if line.count(player) == 3 and line.count(0) == 1:\n",
    "            score += 5\n",
    "        elif line.count(player) == 2 and line.count(0) == 2:\n",
    "            score += 2\n",
    "        if line.count(opp) == 3 and line.count(0) == 1:\n",
    "            score -= 5\n",
    "        elif line.count(opp) == 2 and line.count(0) == 2:\n",
    "            score -= 2\n",
    "\n",
    "    # Check rows, cols, diagonals\n",
    "    for r in range(ROWS):\n",
    "        for c in range(COLS - 3):\n",
    "            check_line(list(board[r, c:c + 4]))\n",
    "    for c in range(COLS):\n",
    "        for r in range(ROWS - 3):\n",
    "            check_line(list(board[r:r + 4, c]))\n",
    "    for r in range(ROWS - 3):\n",
    "        for c in range(COLS - 3):\n",
    "            check_line([board[r + i, c + i] for i in range(4)])\n",
    "            check_line([board[r + 3 - i, c + i] for i in range(4)])\n",
    "\n",
    "    return score\n",
    "\n",
    "\n",
    "# ---------- Minimax with Alpha-Beta ----------\n",
    "def minimax(board, depth, alpha, beta, maximizingPlayer, player):\n",
    "    if depth == 0 or terminal(board):\n",
    "        return evaluate_board(board, player), None\n",
    "\n",
    "    valid_moves = actions(board)\n",
    "    if maximizingPlayer:\n",
    "        value = -math.inf\n",
    "        best_action = random.choice(valid_moves)\n",
    "        for a in valid_moves:\n",
    "            new_board = result(board, player, a)\n",
    "            new_val, _ = minimax(new_board, depth - 1, alpha, beta, False, player)\n",
    "            if new_val > value:\n",
    "                value = new_val\n",
    "                best_action = a\n",
    "            alpha = max(alpha, value)\n",
    "            if alpha >= beta:\n",
    "                break  # β cut-off\n",
    "        return value, best_action\n",
    "    else:\n",
    "        value = math.inf\n",
    "        best_action = random.choice(valid_moves)\n",
    "        for a in valid_moves:\n",
    "            new_board = result(board, -player, a)\n",
    "            new_val, _ = minimax(new_board, depth - 1, alpha, beta, True, player)\n",
    "            if new_val < value:\n",
    "                value = new_val\n",
    "                best_action = a\n",
    "            beta = min(beta, value)\n",
    "            if alpha >= beta:\n",
    "                break  # α cut-off\n",
    "        return value, best_action\n",
    "\n",
    "\n",
    "# ---------- Minimax Agent ----------\n",
    "def minimax_player(board, player=1, depth=4):\n",
    "    \"\"\"\n",
    "    Choose the best action for player using minimax + alpha-beta pruning.\n",
    "    \"\"\"\n",
    "    _, action = minimax(board, depth, -math.inf, math.inf, True, player)\n",
    "    return action\n",
    "\n",
    "\n",
    "# ---------- Random Player (for comparison) ----------\n",
    "def random_player(board, player=1):\n",
    "    legal = actions(board)\n",
    "    return random.choice(legal) if legal else None\n",
    "\n",
    "\n",
    "# ---------- Simple Test ----------\n",
    "if __name__ == \"__main__\":\n",
    "    board = initial_state()\n",
    "    print(\"Initial Board:\\n\", board)\n",
    "\n",
    "    # Let minimax (Red) move first vs random (Yellow)\n",
    "    move = minimax_player(board, player=1, depth=4)\n",
    "    print(f\"\\nMinimax (Red) chooses column {move}\")\n",
    "    board = result(board, 1, move)\n",
    "    print(board)\n"
   ]
  },
  {
   "cell_type": "markdown",
   "metadata": {},
   "source": [
    "Experiment with some manually created boards (at least 5) to check if the agent spots winning opportunities."
   ]
  },
  {
   "cell_type": "code",
   "execution_count": 10,
   "metadata": {},
   "outputs": [],
   "source": [
    "# Your code/ answer goes here."
   ]
  },
  {
   "cell_type": "markdown",
   "metadata": {},
   "source": [
    "How long does it take to make a move? Start with a smaller board with 4 columns and make the board larger by adding columns/rows. Explain why using this algorithm on a standard $6 \\times 7$ board is not feasible."
   ]
  },
  {
   "cell_type": "code",
   "execution_count": 11,
   "metadata": {},
   "outputs": [],
   "source": [
    "# Your code/ answer goes here."
   ]
  },
  {
   "cell_type": "markdown",
   "metadata": {},
   "source": [
    "### Move ordering [5 points]\n",
    "\n",
    "Starting the search with better moves will increase the efficiency of alpha-beta pruning. Describe and implement a simple move ordering strategy. Make a table that shows how the ordering strategies influence the time it takes to make a move?"
   ]
  },
  {
   "cell_type": "code",
   "execution_count": 12,
   "metadata": {},
   "outputs": [],
   "source": [
    "# Your code/ answer goes here."
   ]
  },
  {
   "cell_type": "markdown",
   "metadata": {},
   "source": [
    "### The first few moves [5 points]\n",
    "\n",
    "Start with an empty board. This is the worst case scenario for minimax search since it needs solve all possible games that can be played (minus some pruning) before making the decision. What can you do? "
   ]
  },
  {
   "cell_type": "code",
   "execution_count": 13,
   "metadata": {},
   "outputs": [],
   "source": [
    "# Your code/ answer goes here."
   ]
  },
  {
   "cell_type": "markdown",
   "metadata": {},
   "source": [
    "### Playtime [5 points]\n",
    "\n",
    "Let the Minimax Search agent play a random agent on a $4 \\times 4$ board. Analyze wins, losses and draws."
   ]
  },
  {
   "cell_type": "code",
   "execution_count": 14,
   "metadata": {},
   "outputs": [],
   "source": [
    "# Your code/ answer goes here."
   ]
  },
  {
   "cell_type": "markdown",
   "metadata": {},
   "source": [
    "## Task 4: Heuristic Alpha-Beta Tree Search\n",
    "\n",
    "### Heuristic evaluation function [15 points]\n",
    "\n",
    "Define and implement a heuristic evaluation function. Make sure that the heuristic value stays in the correct range."
   ]
  },
  {
   "cell_type": "code",
   "execution_count": 15,
   "metadata": {},
   "outputs": [],
   "source": [
    "# Your code/ answer goes here."
   ]
  },
  {
   "cell_type": "markdown",
   "metadata": {},
   "source": [
    "### Cutting Off Search [10 points]\n",
    "\n",
    "Modify your minimax search with alpha-beta pruning to cut off search at a specified depth and use the heuristic evaluation function. Experiment with different cutoff values."
   ]
  },
  {
   "cell_type": "code",
   "execution_count": 16,
   "metadata": {},
   "outputs": [],
   "source": [
    "# Your code/ answer goes here."
   ]
  },
  {
   "cell_type": "markdown",
   "metadata": {},
   "source": [
    "Experiment with the same manually created boards as above to check if the agent spots wining opportunities."
   ]
  },
  {
   "cell_type": "code",
   "execution_count": 17,
   "metadata": {},
   "outputs": [],
   "source": [
    "# Your code/ answer goes here."
   ]
  },
  {
   "cell_type": "markdown",
   "metadata": {},
   "source": [
    "How long does it take to make a move? Start with a smaller board with 4 columns and make the board larger by adding columns."
   ]
  },
  {
   "cell_type": "code",
   "execution_count": 18,
   "metadata": {},
   "outputs": [],
   "source": [
    "# Your code/ answer goes here."
   ]
  },
  {
   "cell_type": "markdown",
   "metadata": {},
   "source": [
    "### Playtime [5 points]\n",
    "\n",
    "Let two heuristic search agents (different cutoff depth) compete against each other on a reasonably sized board. Since there is no randomness, you only need to let them play once."
   ]
  },
  {
   "cell_type": "code",
   "execution_count": 19,
   "metadata": {},
   "outputs": [],
   "source": [
    "# Your code/ answer goes here."
   ]
  },
  {
   "cell_type": "markdown",
   "metadata": {},
   "source": [
    "## Challenge task [up to +10 bonus point will be awarded separately]\n",
    "\n",
    "Find another student and let your best agent play against the other student's best player. We will set up a class tournament on Canvas. This tournament will continue after the submission deadline."
   ]
  },
  {
   "cell_type": "markdown",
   "metadata": {},
   "source": [
    "## Graduate student advanced task: Pure Monte Carlo Search and Best First Move [10 point]\n",
    "\n",
    "__Undergraduate students:__ This is a bonus task you can attempt if you like [+5 bonus point].\n",
    "\n",
    "### Pure Monte Carlo Search\n",
    "\n",
    "Implement Pure Monte Carlo Search and investigate how this search performs on the test boards that you have used above. "
   ]
  },
  {
   "cell_type": "code",
   "execution_count": 20,
   "metadata": {},
   "outputs": [],
   "source": [
    "# Your code/ answer goes here."
   ]
  },
  {
   "cell_type": "markdown",
   "metadata": {},
   "source": [
    "### Best First Move\n",
    "\n",
    "Use your Monte Carlo Search to determine what the best first move for red is? Describe under what assumptions this is the \"best\" first move.  "
   ]
  },
  {
   "cell_type": "code",
   "execution_count": 21,
   "metadata": {},
   "outputs": [],
   "source": [
    "# Your code/ answer goes here."
   ]
  }
 ],
 "metadata": {
  "kernelspec": {
   "display_name": "Python 3",
   "language": "python",
   "name": "python3"
  },
  "language_info": {
   "codemirror_mode": {
    "name": "ipython",
    "version": 3
   },
   "file_extension": ".py",
   "mimetype": "text/x-python",
   "name": "python",
   "nbconvert_exporter": "python",
   "pygments_lexer": "ipython3",
   "version": "3.12.1"
  }
 },
 "nbformat": 4,
 "nbformat_minor": 4
}
