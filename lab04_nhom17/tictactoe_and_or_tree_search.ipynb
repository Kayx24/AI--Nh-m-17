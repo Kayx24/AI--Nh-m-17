{
 "cells": [
  {
   "cell_type": "markdown",
   "metadata": {},
   "source": [
    "# Nondeterministic Actions: Solving Tic-Tac-Toe with AND-OR-Tree Search"
   ]
  },
  {
   "cell_type": "markdown",
   "metadata": {},
   "source": [
    "## Introduction \n",
    " \n",
    "Multiplayer games can be implemented as:\n",
    "1. __Nondeterministic actions:__ The opponent is seen as part of an environment with nondeterministic actions. Non-determinism is the result of the unknown opponent's moves. \n",
    "2. Optimal Decisions: Minimax search (search complete game tree) and alpha-beta pruning.\n",
    "3. Heuristic Alpha-Beta Tree Search: Cut off tree search and use heuristic to estimate state value. \n",
    "4. Monte Carlo Tree search: Simulate playouts to estimate state value. \n",
    "\n",
    "Here we will implement search for Tic-Tac-Toe (see [rules](https://en.wikipedia.org/wiki/Tic-tac-toe)).\n",
    "\n",
    "We will implement\n",
    "* __AND-OR-Tree search.__\n",
    "\n",
    "Each action consists of the move by the player (OR levels in the tree) and all possible (i.e., nondeterministic) responses by the opponents (AND levels). The action therefore results in a set of possible states.\n",
    "\n",
    "We will search for a __conditional plan__ using AND-OR-Tree search. "
   ]
  },
  {
   "cell_type": "markdown",
   "metadata": {},
   "source": [
    "The code for the basic functions used for search are implemented in [tictactoe.py](tictactoe.py)."
   ]
  },
  {
   "cell_type": "code",
   "execution_count": 1,
   "metadata": {},
   "outputs": [],
   "source": [
    "from tictactoe import empty_board, actions, result, terminal, utility, other, show_board\n",
    "from tictactoe import random_player, play "
   ]
  },
  {
   "cell_type": "markdown",
   "metadata": {
    "tags": []
   },
   "source": [
    "## Solving Tic-Tac-Toe using AND-OR-Tree Search\n",
    "\n",
    "The opponent can be modeled as part of the environment. The opponent's action as a response to the agent's \n",
    "action makes the environment appear non-deterministic (see AIMA page 125 or the slides). The ADS-OR-Tree algorithm uses the following functions:\n",
    "\n",
    "* `is_goal(state)`: determine if the current board/state has a winner.\n",
    "* `is_cycle(path)`: determine if we are in a loop (the tic-tac-toe problem has no loops so I do not implement it).\n",
    "* `results(state, action)`: returns all states following state + action.\n"
   ]
  },
  {
   "cell_type": "markdown",
   "metadata": {},
   "source": [
    "### Cycles\n",
    "\n",
    "The path is typically used for loop checking. We ignore it here since tic-tac-toe does not have cycles.\n",
    "\n",
    "### Goals\n",
    "\n",
    "Reaching the goal means that the agent has successfully finished the task. \n",
    "\n",
    "For games, `terminal(s)` checks if `s` is a terminal state, but a terminal state can also indicate that \n",
    "the player lost (which indicates a failure). This can determined by the \n",
    "`utility(s)` function. Tic-tac-toe also has draws and we need to decide if a draw is considered successfully reaching\n",
    "the goal or a failure."
   ]
  },
  {
   "cell_type": "markdown",
   "metadata": {},
   "source": [
    "### Non-deterministic Results\n",
    "\n",
    "Since the opponent and her moves are part of the environment, `results()` returns for a state $\\times$ action combination a set of new states that reflects all possible responses by the opponent."
   ]
  },
  {
   "cell_type": "code",
   "execution_count": 2,
   "metadata": {
    "tags": []
   },
   "outputs": [
    {
     "data": {
      "image/png": "[encoded data removed]",
      "text/plain": [
       "<Figure size 192x192 with 1 Axes>"
      ]
     },
     "metadata": {},
     "output_type": "display_data"
    },
    {
     "name": "stdout",
     "output_type": "stream",
     "text": [
      "\n",
      "Set of possible state for placing an x at position 4 of an empty board and the opponent's move:\n"
     ]
    },
    {
     "data": {
      "text/plain": [
       "[['o', ' ', ' ', ' ', 'x', ' ', ' ', ' ', ' '],\n",
       " [' ', 'o', ' ', ' ', 'x', ' ', ' ', ' ', ' '],\n",
       " [' ', ' ', 'o', ' ', 'x', ' ', ' ', ' ', ' '],\n",
       " [' ', ' ', ' ', 'o', 'x', ' ', ' ', ' ', ' '],\n",
       " [' ', ' ', ' ', ' ', 'x', 'o', ' ', ' ', ' '],\n",
       " [' ', ' ', ' ', ' ', 'x', ' ', 'o', ' ', ' '],\n",
       " [' ', ' ', ' ', ' ', 'x', ' ', ' ', 'o', ' '],\n",
       " [' ', ' ', ' ', ' ', 'x', ' ', ' ', ' ', 'o']]"
      ]
     },
     "execution_count": 2,
     "metadata": {},
     "output_type": "execute_result"
    }
   ],
   "source": [
    "def results(state, action, player = 'x'):\n",
    "    \"\"\"produce the set of states after the provided action for player. \n",
    "       It is the set of boards with the action and all possible reactions by the opponent.\"\"\"\n",
    "    \n",
    "    opponent = other(player)\n",
    "    state = state.copy()\n",
    "    \n",
    "    # player's move\n",
    "    state[action] = player\n",
    "    \n",
    "    # opponent reacts\n",
    "    r = list()\n",
    "    o_actions = actions(state)\n",
    "    \n",
    "    # board is full\n",
    "    if len(o_actions) < 1 : return [state]\n",
    "    \n",
    "    for o_a in o_actions:\n",
    "        s = state.copy()\n",
    "        s[o_a] = opponent\n",
    "        r.append(s)    \n",
    "    \n",
    "    return r\n",
    "\n",
    "show_board(empty_board())\n",
    "\n",
    "print()\n",
    "print(\"Set of possible state for placing an x at position 4 of an empty board and the opponent's move:\")\n",
    "results(empty_board(), 4)"
   ]
  },
  {
   "cell_type": "markdown",
   "metadata": {},
   "source": [
    "### Recursive AND-OR Search (DFS)"
   ]
  },
  {
   "cell_type": "code",
   "execution_count": 3,
   "metadata": {},
   "outputs": [],
   "source": [
    "# define global variables for debugging\n",
    "DEBUG = 1\n",
    "COUNT = 0 # used to report the number of searched nodes\n",
    "\n",
    "def and_or_search(state, player = 'x', draw_is_win = True):\n",
    "    \"\"\"start the search. Consider draw_is_win a goal state?\"\"\"\n",
    "    global DEBUG, COUNT\n",
    "    COUNT = 0\n",
    "    \n",
    "    plan = or_search(state, player, draw_is_win)\n",
    "    \n",
    "    if DEBUG >= 1: \n",
    "        print(f\"Number of nodes searched: {COUNT}\")  \n",
    "    \n",
    "    return plan\n",
    " \n",
    "\n",
    "def or_search(state, player, draw_is_win):\n",
    "    \"\"\"Or step of the search: the player makes a move. \n",
    "    We try all possible action and return a conditional \n",
    "    plan for the first action that only has goal states as leaf nodes. \n",
    "    If none can be found, then failure (None) is returned.\n",
    "    \n",
    "    Note: path is not used in this implementation since tic-tac-toe does not \n",
    "    need cycle checking.\n",
    "    \"\"\"\n",
    "    global DEBUG, COUNT\n",
    "    COUNT += 1\n",
    "    \n",
    "    # goal check\n",
    "    u = utility(state, player)\n",
    "    if u == -1 or (not draw_is_win and u == 0): return None # failure\n",
    "     \n",
    "    # cycles check: tic-tac-toe has no cycles\n",
    "\n",
    "    # check all possible actions\n",
    "    for action in actions(state):\n",
    "        plan = and_search(results(state, action, player), player, draw_is_win)\n",
    "        if plan is not None: \n",
    "            return [action, plan]\n",
    "    \n",
    "    # failure\n",
    "    return None\n",
    "\n",
    "\n",
    "def and_search(states, player, draw_is_win):\n",
    "    \"\"\"And step of the search: Represents all opponent's possible moves. \n",
    "    Follow all possible states (call the or step). \n",
    "    Return a conditional plan only if all paths lead to a goal state.\"\"\"\n",
    "    global DEBUG, COUNT\n",
    "    COUNT += 1\n",
    "    \n",
    "    # return plans only if no state fails\n",
    "    plans = []\n",
    "    for s in states:\n",
    "        # goal check\n",
    "        u = utility(s, player)\n",
    "        if u == 1: return \"win\"  # success\n",
    "        if draw_is_win and u == 0: return \"draw\"\n",
    "\n",
    "        plan = or_search(s, player, draw_is_win)\n",
    "        \n",
    "        if plan is None: \n",
    "            return None    # found a state that fails so we abandon this subtree!\n",
    "        plans.append(['if', s, 'then', plan])\n",
    "        \n",
    "    return plans"
   ]
  },
  {
   "cell_type": "markdown",
   "metadata": {},
   "source": [
    "And-or search looks for a subtree (i.e., an action) that guarantees a win and returns a conditional plan for this subtree. If no such subtree exists, no plan is returned. The algorithm only searches a fraction of the game tree since it abandons the current subtree when it finds the first leaf node that is not a win (see `and_search` function)."
   ]
  },
  {
   "cell_type": "markdown",
   "metadata": {},
   "source": [
    "# Some Tests\n",
    "\n",
    "## # x is about to win"
   ]
  },
  {
   "cell_type": "code",
   "execution_count": 4,
   "metadata": {},
   "outputs": [
    {
     "name": "stdout",
     "output_type": "stream",
     "text": [
      "Board:\n"
     ]
    },
    {
     "data": {
      "image/png": "[encoded data removed]",
      "text/plain": [
       "<Figure size 192x192 with 1 Axes>"
      ]
     },
     "metadata": {},
     "output_type": "display_data"
    },
    {
     "name": "stdout",
     "output_type": "stream",
     "text": [
      "\n",
      "Win or draw:\n",
      "Number of nodes searched: 22\n"
     ]
    },
    {
     "data": {
      "text/plain": [
       "[2,\n",
       " [['if', ['x', 'o', 'x', 'o', 'x', 'o', ' ', ' ', ' '], 'then', [6, 'win']],\n",
       "  ['if',\n",
       "   ['x', 'o', 'x', 'o', 'x', ' ', 'o', ' ', ' '],\n",
       "   'then',\n",
       "   [5,\n",
       "    [['if', ['x', 'o', 'x', 'o', 'x', 'x', 'o', 'o', ' '], 'then', [8, 'win']],\n",
       "     ['if',\n",
       "      ['x', 'o', 'x', 'o', 'x', 'x', 'o', ' ', 'o'],\n",
       "      'then',\n",
       "      [7, 'draw']]]]],\n",
       "  ['if',\n",
       "   ['x', 'o', 'x', 'o', 'x', ' ', ' ', 'o', ' '],\n",
       "   'then',\n",
       "   [5,\n",
       "    [['if', ['x', 'o', 'x', 'o', 'x', 'x', 'o', 'o', ' '], 'then', [8, 'win']],\n",
       "     ['if',\n",
       "      ['x', 'o', 'x', 'o', 'x', 'x', ' ', 'o', 'o'],\n",
       "      'then',\n",
       "      [6, 'win']]]]],\n",
       "  ['if',\n",
       "   ['x', 'o', 'x', 'o', 'x', ' ', ' ', ' ', 'o'],\n",
       "   'then',\n",
       "   [5,\n",
       "    [['if',\n",
       "      ['x', 'o', 'x', 'o', 'x', 'x', 'o', ' ', 'o'],\n",
       "      'then',\n",
       "      [7, 'draw']],\n",
       "     ['if',\n",
       "      ['x', 'o', 'x', 'o', 'x', 'x', ' ', 'o', 'o'],\n",
       "      'then',\n",
       "      [6, 'win']]]]]]]"
      ]
     },
     "metadata": {},
     "output_type": "display_data"
    },
    {
     "name": "stdout",
     "output_type": "stream",
     "text": [
      "CPU times: total: 0 ns\n",
      "Wall time: 5.55 ms\n"
     ]
    }
   ],
   "source": [
    "board = empty_board() \n",
    "board[0] = 'x'\n",
    "board[1] = 'o'\n",
    "board[3] = 'o'\n",
    "board[4] = 'x'\n",
    "\n",
    "print(\"Board:\")\n",
    "show_board(board)\n",
    "\n",
    "print()\n",
    "print(\"Win or draw:\")\n",
    "%time display(and_or_search(board, player = 'x', draw_is_win = True))"
   ]
  },
  {
   "cell_type": "markdown",
   "metadata": {},
   "source": [
    "Why does it play 2 and not 8!!!"
   ]
  },
  {
   "cell_type": "code",
   "execution_count": 5,
   "metadata": {},
   "outputs": [
    {
     "name": "stdout",
     "output_type": "stream",
     "text": [
      "Win only:\n",
      "Number of nodes searched: 30\n"
     ]
    },
    {
     "data": {
      "text/plain": [
       "[2,\n",
       " [['if', ['x', 'o', 'x', 'o', 'x', 'o', ' ', ' ', ' '], 'then', [6, 'win']],\n",
       "  ['if', ['x', 'o', 'x', 'o', 'x', ' ', 'o', ' ', ' '], 'then', [8, 'win']],\n",
       "  ['if',\n",
       "   ['x', 'o', 'x', 'o', 'x', ' ', ' ', 'o', ' '],\n",
       "   'then',\n",
       "   [5,\n",
       "    [['if', ['x', 'o', 'x', 'o', 'x', 'x', 'o', 'o', ' '], 'then', [8, 'win']],\n",
       "     ['if',\n",
       "      ['x', 'o', 'x', 'o', 'x', 'x', ' ', 'o', 'o'],\n",
       "      'then',\n",
       "      [6, 'win']]]]],\n",
       "  ['if', ['x', 'o', 'x', 'o', 'x', ' ', ' ', ' ', 'o'], 'then', [6, 'win']]]]"
      ]
     },
     "metadata": {},
     "output_type": "display_data"
    },
    {
     "name": "stdout",
     "output_type": "stream",
     "text": [
      "CPU times: total: 0 ns\n",
      "Wall time: 5.65 ms\n"
     ]
    }
   ],
   "source": [
    "print(\"Win only:\")\n",
    "%time display(and_or_search(board, player = 'x', draw_is_win = False))"
   ]
  },
  {
   "cell_type": "markdown",
   "metadata": {},
   "source": [
    "## x can draw_is_win if it chooses 7"
   ]
  },
  {
   "cell_type": "code",
   "execution_count": 6,
   "metadata": {},
   "outputs": [
    {
     "name": "stdout",
     "output_type": "stream",
     "text": [
      "Board:\n"
     ]
    },
    {
     "data": {
      "image/png": "[encoded data removed]",
      "text/plain": [
       "<Figure size 192x192 with 1 Axes>"
      ]
     },
     "metadata": {},
     "output_type": "display_data"
    },
    {
     "name": "stdout",
     "output_type": "stream",
     "text": [
      "\n",
      "Win or draw:\n",
      "Number of nodes searched: 64\n"
     ]
    },
    {
     "data": {
      "text/plain": [
       "[7,\n",
       " [['if',\n",
       "   ['x', 'o', 'x', 'o', 'o', ' ', ' ', 'x', ' '],\n",
       "   'then',\n",
       "   [5,\n",
       "    [['if', ['x', 'o', 'x', 'o', 'o', 'x', 'o', 'x', ' '], 'then', [8, 'win']],\n",
       "     ['if',\n",
       "      ['x', 'o', 'x', 'o', 'o', 'x', ' ', 'x', 'o'],\n",
       "      'then',\n",
       "      [6, 'draw']]]]],\n",
       "  ['if',\n",
       "   ['x', 'o', 'x', ' ', 'o', 'o', ' ', 'x', ' '],\n",
       "   'then',\n",
       "   [3,\n",
       "    [['if',\n",
       "      ['x', 'o', 'x', 'x', 'o', 'o', 'o', 'x', ' '],\n",
       "      'then',\n",
       "      [8, 'draw']],\n",
       "     ['if',\n",
       "      ['x', 'o', 'x', 'x', 'o', 'o', ' ', 'x', 'o'],\n",
       "      'then',\n",
       "      [6, 'win']]]]],\n",
       "  ['if',\n",
       "   ['x', 'o', 'x', ' ', 'o', ' ', 'o', 'x', ' '],\n",
       "   'then',\n",
       "   [3,\n",
       "    [['if',\n",
       "      ['x', 'o', 'x', 'x', 'o', 'o', 'o', 'x', ' '],\n",
       "      'then',\n",
       "      [8, 'draw']],\n",
       "     ['if',\n",
       "      ['x', 'o', 'x', 'x', 'o', ' ', 'o', 'x', 'o'],\n",
       "      'then',\n",
       "      [5, 'draw']]]]],\n",
       "  ['if',\n",
       "   ['x', 'o', 'x', ' ', 'o', ' ', ' ', 'x', 'o'],\n",
       "   'then',\n",
       "   [3,\n",
       "    [['if', ['x', 'o', 'x', 'x', 'o', 'o', ' ', 'x', 'o'], 'then', [6, 'win']],\n",
       "     ['if',\n",
       "      ['x', 'o', 'x', 'x', 'o', ' ', 'o', 'x', 'o'],\n",
       "      'then',\n",
       "      [5, 'draw']]]]]]]"
      ]
     },
     "metadata": {},
     "output_type": "display_data"
    },
    {
     "name": "stdout",
     "output_type": "stream",
     "text": [
      "CPU times: total: 0 ns\n",
      "Wall time: 6.63 ms\n"
     ]
    }
   ],
   "source": [
    "\n",
    "board = empty_board() \n",
    "board[0] = 'x'\n",
    "board[1] = 'o'\n",
    "board[2] = 'x'\n",
    "#board[3] = 'o'\n",
    "board[4] = 'o'\n",
    "\n",
    "print(\"Board:\")\n",
    "show_board(board)\n",
    "\n",
    "print()\n",
    "print(\"Win or draw:\")\n",
    "%time display(and_or_search(board, player = 'x', draw_is_win = True))"
   ]
  },
  {
   "cell_type": "code",
   "execution_count": 7,
   "metadata": {},
   "outputs": [
    {
     "name": "stdout",
     "output_type": "stream",
     "text": [
      "Win only:\n",
      "Number of nodes searched: 69\n"
     ]
    },
    {
     "data": {
      "text/plain": [
       "None"
      ]
     },
     "metadata": {},
     "output_type": "display_data"
    },
    {
     "name": "stdout",
     "output_type": "stream",
     "text": [
      "CPU times: total: 0 ns\n",
      "Wall time: 6.15 ms\n"
     ]
    }
   ],
   "source": [
    "print(\"Win only:\")\n",
    "%time display(and_or_search(board, player = 'x', draw_is_win = False))"
   ]
  },
  {
   "cell_type": "markdown",
   "metadata": {},
   "source": [
    "## o is about to win"
   ]
  },
  {
   "cell_type": "code",
   "execution_count": 8,
   "metadata": {},
   "outputs": [
    {
     "name": "stdout",
     "output_type": "stream",
     "text": [
      "Board:\n"
     ]
    },
    {
     "data": {
      "image/png": "[encoded data removed]",
      "text/plain": [
       "<Figure size 192x192 with 1 Axes>"
      ]
     },
     "metadata": {},
     "output_type": "display_data"
    },
    {
     "name": "stdout",
     "output_type": "stream",
     "text": [
      "\n",
      "Win or draw:\n",
      "Number of nodes searched: 11\n"
     ]
    },
    {
     "data": {
      "text/plain": [
       "None"
      ]
     },
     "metadata": {},
     "output_type": "display_data"
    },
    {
     "name": "stdout",
     "output_type": "stream",
     "text": [
      "CPU times: total: 0 ns\n",
      "Wall time: 1.52 ms\n"
     ]
    }
   ],
   "source": [
    "board = empty_board() \n",
    "board[0] = 'o'\n",
    "board[1] = 'o'\n",
    "board[3] = 'o'\n",
    "board[4] = 'x'\n",
    "board[8] = 'x'\n",
    "\n",
    "print(\"Board:\")\n",
    "show_board(board)\n",
    "\n",
    "print()\n",
    "print(\"Win or draw:\")\n",
    "%time display(and_or_search(board, player = 'x', draw_is_win = True))"
   ]
  },
  {
   "cell_type": "markdown",
   "metadata": {},
   "source": [
    "Check for player o"
   ]
  },
  {
   "cell_type": "code",
   "execution_count": 9,
   "metadata": {},
   "outputs": [
    {
     "name": "stdout",
     "output_type": "stream",
     "text": [
      "Win only:\n",
      "Number of nodes searched: 2\n"
     ]
    },
    {
     "data": {
      "text/plain": [
       "[2, 'win']"
      ]
     },
     "metadata": {},
     "output_type": "display_data"
    },
    {
     "name": "stdout",
     "output_type": "stream",
     "text": [
      "CPU times: total: 0 ns\n",
      "Wall time: 2.09 ms\n"
     ]
    }
   ],
   "source": [
    "print(\"Win only:\")\n",
    "%time display(and_or_search(board, player = 'o', draw_is_win = False))"
   ]
  },
  {
   "cell_type": "markdown",
   "metadata": {},
   "source": [
    "## Empty board: Only a draw_is_win can be guaranteed"
   ]
  },
  {
   "cell_type": "code",
   "execution_count": 10,
   "metadata": {
    "scrolled": true,
    "tags": []
   },
   "outputs": [
    {
     "name": "stdout",
     "output_type": "stream",
     "text": [
      "Board:\n"
     ]
    },
    {
     "data": {
      "image/png": "[encoded data removed]",
      "text/plain": [
       "<Figure size 192x192 with 1 Axes>"
      ]
     },
     "metadata": {},
     "output_type": "display_data"
    },
    {
     "name": "stdout",
     "output_type": "stream",
     "text": [
      "\n",
      "Win or draw:\n",
      "Number of nodes searched: 966\n"
     ]
    },
    {
     "data": {
      "text/plain": [
       "[0,\n",
       " [['if',\n",
       "   ['x', 'o', ' ', ' ', ' ', ' ', ' ', ' ', ' '],\n",
       "   'then',\n",
       "   [2,\n",
       "    [['if',\n",
       "      ['x', 'o', 'x', 'o', ' ', ' ', ' ', ' ', ' '],\n",
       "      'then',\n",
       "      [4,\n",
       "       [['if',\n",
       "         ['x', 'o', 'x', 'o', 'x', 'o', ' ', ' ', ' '],\n",
       "         'then',\n",
       "         [6, 'win']],\n",
       "        ['if',\n",
       "         ['x', 'o', 'x', 'o', 'x', ' ', 'o', ' ', ' '],\n",
       "         'then',\n",
       "         [5,\n",
       "          [['if',\n",
       "            ['x', 'o', 'x', 'o', 'x', 'x', 'o', 'o', ' '],\n",
       "            'then',\n",
       "            [8, 'win']],\n",
       "           ['if',\n",
       "            ['x', 'o', 'x', 'o', 'x', 'x', 'o', ' ', 'o'],\n",
       "            'then',\n",
       "            [7, 'draw']]]]],\n",
       "        ['if',\n",
       "         ['x', 'o', 'x', 'o', 'x', ' ', ' ', 'o', ' '],\n",
       "         'then',\n",
       "         [5,\n",
       "          [['if',\n",
       "            ['x', 'o', 'x', 'o', 'x', 'x', 'o', 'o', ' '],\n",
       "            'then',\n",
       "            [8, 'win']],\n",
       "           ['if',\n",
       "            ['x', 'o', 'x', 'o', 'x', 'x', ' ', 'o', 'o'],\n",
       "            'then',\n",
       "            [6, 'win']]]]],\n",
       "        ['if',\n",
       "         ['x', 'o', 'x', 'o', 'x', ' ', ' ', ' ', 'o'],\n",
       "         'then',\n",
       "         [5,\n",
       "          [['if',\n",
       "            ['x', 'o', 'x', 'o', 'x', 'x', 'o', ' ', 'o'],\n",
       "            'then',\n",
       "            [7, 'draw']],\n",
       "           ['if',\n",
       "            ['x', 'o', 'x', 'o', 'x', 'x', ' ', 'o', 'o'],\n",
       "            'then',\n",
       "            [6, 'win']]]]]]]],\n",
       "     ['if',\n",
       "      ['x', 'o', 'x', ' ', 'o', ' ', ' ', ' ', ' '],\n",
       "      'then',\n",
       "      [7,\n",
       "       [['if',\n",
       "         ['x', 'o', 'x', 'o', 'o', ' ', ' ', 'x', ' '],\n",
       "         'then',\n",
       "         [5,\n",
       "          [['if',\n",
       "            ['x', 'o', 'x', 'o', 'o', 'x', 'o', 'x', ' '],\n",
       "            'then',\n",
       "            [8, 'win']],\n",
       "           ['if',\n",
       "            ['x', 'o', 'x', 'o', 'o', 'x', ' ', 'x', 'o'],\n",
       "            'then',\n",
       "            [6, 'draw']]]]],\n",
       "        ['if',\n",
       "         ['x', 'o', 'x', ' ', 'o', 'o', ' ', 'x', ' '],\n",
       "         'then',\n",
       "         [3,\n",
       "          [['if',\n",
       "            ['x', 'o', 'x', 'x', 'o', 'o', 'o', 'x', ' '],\n",
       "            'then',\n",
       "            [8, 'draw']],\n",
       "           ['if',\n",
       "            ['x', 'o', 'x', 'x', 'o', 'o', ' ', 'x', 'o'],\n",
       "            'then',\n",
       "            [6, 'win']]]]],\n",
       "        ['if',\n",
       "         ['x', 'o', 'x', ' ', 'o', ' ', 'o', 'x', ' '],\n",
       "         'then',\n",
       "         [3,\n",
       "          [['if',\n",
       "            ['x', 'o', 'x', 'x', 'o', 'o', 'o', 'x', ' '],\n",
       "            'then',\n",
       "            [8, 'draw']],\n",
       "           ['if',\n",
       "            ['x', 'o', 'x', 'x', 'o', ' ', 'o', 'x', 'o'],\n",
       "            'then',\n",
       "            [5, 'draw']]]]],\n",
       "        ['if',\n",
       "         ['x', 'o', 'x', ' ', 'o', ' ', ' ', 'x', 'o'],\n",
       "         'then',\n",
       "         [3,\n",
       "          [['if',\n",
       "            ['x', 'o', 'x', 'x', 'o', 'o', ' ', 'x', 'o'],\n",
       "            'then',\n",
       "            [6, 'win']],\n",
       "           ['if',\n",
       "            ['x', 'o', 'x', 'x', 'o', ' ', 'o', 'x', 'o'],\n",
       "            'then',\n",
       "            [5, 'draw']]]]]]]],\n",
       "     ['if',\n",
       "      ['x', 'o', 'x', ' ', ' ', 'o', ' ', ' ', ' '],\n",
       "      'then',\n",
       "      [3,\n",
       "       [['if',\n",
       "         ['x', 'o', 'x', 'x', 'o', 'o', ' ', ' ', ' '],\n",
       "         'then',\n",
       "         [6, 'win']],\n",
       "        ['if',\n",
       "         ['x', 'o', 'x', 'x', ' ', 'o', 'o', ' ', ' '],\n",
       "         'then',\n",
       "         [4,\n",
       "          [['if',\n",
       "            ['x', 'o', 'x', 'x', 'x', 'o', 'o', 'o', ' '],\n",
       "            'then',\n",
       "            [8, 'win']],\n",
       "           ['if',\n",
       "            ['x', 'o', 'x', 'x', 'x', 'o', 'o', ' ', 'o'],\n",
       "            'then',\n",
       "            [7, 'draw']]]]],\n",
       "        ['if',\n",
       "         ['x', 'o', 'x', 'x', ' ', 'o', ' ', 'o', ' '],\n",
       "         'then',\n",
       "         [4,\n",
       "          [['if',\n",
       "            ['x', 'o', 'x', 'x', 'x', 'o', 'o', 'o', ' '],\n",
       "            'then',\n",
       "            [8, 'win']],\n",
       "           ['if',\n",
       "            ['x', 'o', 'x', 'x', 'x', 'o', ' ', 'o', 'o'],\n",
       "            'then',\n",
       "            [6, 'win']]]]],\n",
       "        ['if',\n",
       "         ['x', 'o', 'x', 'x', ' ', 'o', ' ', ' ', 'o'],\n",
       "         'then',\n",
       "         [4,\n",
       "          [['if',\n",
       "            ['x', 'o', 'x', 'x', 'x', 'o', 'o', ' ', 'o'],\n",
       "            'then',\n",
       "            [7, 'draw']],\n",
       "           ['if',\n",
       "            ['x', 'o', 'x', 'x', 'x', 'o', ' ', 'o', 'o'],\n",
       "            'then',\n",
       "            [6, 'win']]]]]]]],\n",
       "     ['if',\n",
       "      ['x', 'o', 'x', ' ', ' ', ' ', 'o', ' ', ' '],\n",
       "      'then',\n",
       "      [4,\n",
       "       [['if',\n",
       "         ['x', 'o', 'x', 'o', 'x', ' ', 'o', ' ', ' '],\n",
       "         'then',\n",
       "         [5,\n",
       "          [['if',\n",
       "            ['x', 'o', 'x', 'o', 'x', 'x', 'o', 'o', ' '],\n",
       "            'then',\n",
       "            [8, 'win']],\n",
       "           ['if',\n",
       "            ['x', 'o', 'x', 'o', 'x', 'x', 'o', ' ', 'o'],\n",
       "            'then',\n",
       "            [7, 'draw']]]]],\n",
       "        ['if',\n",
       "         ['x', 'o', 'x', ' ', 'x', 'o', 'o', ' ', ' '],\n",
       "         'then',\n",
       "         [3,\n",
       "          [['if',\n",
       "            ['x', 'o', 'x', 'x', 'x', 'o', 'o', 'o', ' '],\n",
       "            'then',\n",
       "            [8, 'win']],\n",
       "           ['if',\n",
       "            ['x', 'o', 'x', 'x', 'x', 'o', 'o', ' ', 'o'],\n",
       "            'then',\n",
       "            [7, 'draw']]]]],\n",
       "        ['if',\n",
       "         ['x', 'o', 'x', ' ', 'x', ' ', 'o', 'o', ' '],\n",
       "         'then',\n",
       "         [8, 'win']],\n",
       "        ['if',\n",
       "         ['x', 'o', 'x', ' ', 'x', ' ', 'o', ' ', 'o'],\n",
       "         'then',\n",
       "         [7,\n",
       "          [['if',\n",
       "            ['x', 'o', 'x', 'o', 'x', ' ', 'o', 'x', 'o'],\n",
       "            'then',\n",
       "            [5, 'draw']],\n",
       "           ['if',\n",
       "            ['x', 'o', 'x', ' ', 'x', 'o', 'o', 'x', 'o'],\n",
       "            'then',\n",
       "            [3, 'draw']]]]]]]],\n",
       "     ['if',\n",
       "      ['x', 'o', 'x', ' ', ' ', ' ', ' ', 'o', ' '],\n",
       "      'then',\n",
       "      [4,\n",
       "       [['if',\n",
       "         ['x', 'o', 'x', 'o', 'x', ' ', ' ', 'o', ' '],\n",
       "         'then',\n",
       "         [5,\n",
       "          [['if',\n",
       "            ['x', 'o', 'x', 'o', 'x', 'x', 'o', 'o', ' '],\n",
       "            'then',\n",
       "            [8, 'win']],\n",
       "           ['if',\n",
       "            ['x', 'o', 'x', 'o', 'x', 'x', ' ', 'o', 'o'],\n",
       "            'then',\n",
       "            [6, 'win']]]]],\n",
       "        ['if',\n",
       "         ['x', 'o', 'x', ' ', 'x', 'o', ' ', 'o', ' '],\n",
       "         'then',\n",
       "         [3,\n",
       "          [['if',\n",
       "            ['x', 'o', 'x', 'x', 'x', 'o', 'o', 'o', ' '],\n",
       "            'then',\n",
       "            [8, 'win']],\n",
       "           ['if',\n",
       "            ['x', 'o', 'x', 'x', 'x', 'o', ' ', 'o', 'o'],\n",
       "            'then',\n",
       "            [6, 'win']]]]],\n",
       "        ['if',\n",
       "         ['x', 'o', 'x', ' ', 'x', ' ', 'o', 'o', ' '],\n",
       "         'then',\n",
       "         [8, 'win']],\n",
       "        ['if',\n",
       "         ['x', 'o', 'x', ' ', 'x', ' ', ' ', 'o', 'o'],\n",
       "         'then',\n",
       "         [6, 'win']]]]],\n",
       "     ['if',\n",
       "      ['x', 'o', 'x', ' ', ' ', ' ', ' ', ' ', 'o'],\n",
       "      'then',\n",
       "      [3,\n",
       "       [['if',\n",
       "         ['x', 'o', 'x', 'x', 'o', ' ', ' ', ' ', 'o'],\n",
       "         'then',\n",
       "         [6, 'win']],\n",
       "        ['if',\n",
       "         ['x', 'o', 'x', 'x', ' ', 'o', ' ', ' ', 'o'],\n",
       "         'then',\n",
       "         [4,\n",
       "          [['if',\n",
       "            ['x', 'o', 'x', 'x', 'x', 'o', 'o', ' ', 'o'],\n",
       "            'then',\n",
       "            [7, 'draw']],\n",
       "           ['if',\n",
       "            ['x', 'o', 'x', 'x', 'x', 'o', ' ', 'o', 'o'],\n",
       "            'then',\n",
       "            [6, 'win']]]]],\n",
       "        ['if',\n",
       "         ['x', 'o', 'x', 'x', ' ', ' ', 'o', ' ', 'o'],\n",
       "         'then',\n",
       "         [7,\n",
       "          [['if',\n",
       "            ['x', 'o', 'x', 'x', 'o', ' ', 'o', 'x', 'o'],\n",
       "            'then',\n",
       "            [5, 'draw']],\n",
       "           ['if',\n",
       "            ['x', 'o', 'x', 'x', ' ', 'o', 'o', 'x', 'o'],\n",
       "            'then',\n",
       "            [4, 'draw']]]]],\n",
       "        ['if',\n",
       "         ['x', 'o', 'x', 'x', ' ', ' ', ' ', 'o', 'o'],\n",
       "         'then',\n",
       "         [6, 'win']]]]]]]],\n",
       "  ['if',\n",
       "   ['x', ' ', 'o', ' ', ' ', ' ', ' ', ' ', ' '],\n",
       "   'then',\n",
       "   [3,\n",
       "    [['if',\n",
       "      ['x', 'o', 'o', 'x', ' ', ' ', ' ', ' ', ' '],\n",
       "      'then',\n",
       "      [4,\n",
       "       [['if',\n",
       "         ['x', 'o', 'o', 'x', 'x', 'o', ' ', ' ', ' '],\n",
       "         'then',\n",
       "         [6, 'win']],\n",
       "        ['if',\n",
       "         ['x', 'o', 'o', 'x', 'x', ' ', 'o', ' ', ' '],\n",
       "         'then',\n",
       "         [5, 'win']],\n",
       "        ['if',\n",
       "         ['x', 'o', 'o', 'x', 'x', ' ', ' ', 'o', ' '],\n",
       "         'then',\n",
       "         [5, 'win']],\n",
       "        ['if',\n",
       "         ['x', 'o', 'o', 'x', 'x', ' ', ' ', ' ', 'o'],\n",
       "         'then',\n",
       "         [5, 'win']]]]],\n",
       "     ['if', ['x', ' ', 'o', 'x', 'o', ' ', ' ', ' ', ' '], 'then', [6, 'win']],\n",
       "     ['if', ['x', ' ', 'o', 'x', ' ', 'o', ' ', ' ', ' '], 'then', [6, 'win']],\n",
       "     ['if',\n",
       "      ['x', ' ', 'o', 'x', ' ', ' ', 'o', ' ', ' '],\n",
       "      'then',\n",
       "      [4,\n",
       "       [['if',\n",
       "         ['x', 'o', 'o', 'x', 'x', ' ', 'o', ' ', ' '],\n",
       "         'then',\n",
       "         [5, 'win']],\n",
       "        ['if',\n",
       "         ['x', ' ', 'o', 'x', 'x', 'o', 'o', ' ', ' '],\n",
       "         'then',\n",
       "         [8, 'win']],\n",
       "        ['if',\n",
       "         ['x', ' ', 'o', 'x', 'x', ' ', 'o', 'o', ' '],\n",
       "         'then',\n",
       "         [5, 'win']],\n",
       "        ['if',\n",
       "         ['x', ' ', 'o', 'x', 'x', ' ', 'o', ' ', 'o'],\n",
       "         'then',\n",
       "         [5, 'win']]]]],\n",
       "     ['if',\n",
       "      ['x', ' ', 'o', 'x', ' ', ' ', ' ', 'o', ' '],\n",
       "      'then',\n",
       "      [4,\n",
       "       [['if',\n",
       "         ['x', 'o', 'o', 'x', 'x', ' ', ' ', 'o', ' '],\n",
       "         'then',\n",
       "         [5, 'win']],\n",
       "        ['if',\n",
       "         ['x', ' ', 'o', 'x', 'x', 'o', ' ', 'o', ' '],\n",
       "         'then',\n",
       "         [6, 'win']],\n",
       "        ['if',\n",
       "         ['x', ' ', 'o', 'x', 'x', ' ', 'o', 'o', ' '],\n",
       "         'then',\n",
       "         [5, 'win']],\n",
       "        ['if',\n",
       "         ['x', ' ', 'o', 'x', 'x', ' ', ' ', 'o', 'o'],\n",
       "         'then',\n",
       "         [5, 'win']]]]],\n",
       "     ['if',\n",
       "      ['x', ' ', 'o', 'x', ' ', ' ', ' ', ' ', 'o'],\n",
       "      'then',\n",
       "      [5,\n",
       "       [['if',\n",
       "         ['x', 'o', 'o', 'x', ' ', 'x', ' ', ' ', 'o'],\n",
       "         'then',\n",
       "         [4, 'win']],\n",
       "        ['if',\n",
       "         ['x', ' ', 'o', 'x', 'o', 'x', ' ', ' ', 'o'],\n",
       "         'then',\n",
       "         [6, 'win']],\n",
       "        ['if',\n",
       "         ['x', ' ', 'o', 'x', ' ', 'x', 'o', ' ', 'o'],\n",
       "         'then',\n",
       "         [4, 'win']],\n",
       "        ['if',\n",
       "         ['x', ' ', 'o', 'x', ' ', 'x', ' ', 'o', 'o'],\n",
       "         'then',\n",
       "         [4, 'win']]]]]]]],\n",
       "  ['if',\n",
       "   ['x', ' ', ' ', 'o', ' ', ' ', ' ', ' ', ' '],\n",
       "   'then',\n",
       "   [1,\n",
       "    [['if',\n",
       "      ['x', 'x', 'o', 'o', ' ', ' ', ' ', ' ', ' '],\n",
       "      'then',\n",
       "      [4,\n",
       "       [['if',\n",
       "         ['x', 'x', 'o', 'o', 'x', 'o', ' ', ' ', ' '],\n",
       "         'then',\n",
       "         [7, 'win']],\n",
       "        ['if',\n",
       "         ['x', 'x', 'o', 'o', 'x', ' ', 'o', ' ', ' '],\n",
       "         'then',\n",
       "         [5,\n",
       "          [['if',\n",
       "            ['x', 'x', 'o', 'o', 'x', 'x', 'o', 'o', ' '],\n",
       "            'then',\n",
       "            [8, 'win']],\n",
       "           ['if',\n",
       "            ['x', 'x', 'o', 'o', 'x', 'x', 'o', ' ', 'o'],\n",
       "            'then',\n",
       "            [7, 'win']]]]],\n",
       "        ['if',\n",
       "         ['x', 'x', 'o', 'o', 'x', ' ', ' ', 'o', ' '],\n",
       "         'then',\n",
       "         [5,\n",
       "          [['if',\n",
       "            ['x', 'x', 'o', 'o', 'x', 'x', 'o', 'o', ' '],\n",
       "            'then',\n",
       "            [8, 'win']],\n",
       "           ['if',\n",
       "            ['x', 'x', 'o', 'o', 'x', 'x', ' ', 'o', 'o'],\n",
       "            'then',\n",
       "            [6, 'draw']]]]],\n",
       "        ['if',\n",
       "         ['x', 'x', 'o', 'o', 'x', ' ', ' ', ' ', 'o'],\n",
       "         'then',\n",
       "         [5,\n",
       "          [['if',\n",
       "            ['x', 'x', 'o', 'o', 'x', 'x', 'o', ' ', 'o'],\n",
       "            'then',\n",
       "            [7, 'win']],\n",
       "           ['if',\n",
       "            ['x', 'x', 'o', 'o', 'x', 'x', ' ', 'o', 'o'],\n",
       "            'then',\n",
       "            [6, 'draw']]]]]]]],\n",
       "     ['if', ['x', 'x', ' ', 'o', 'o', ' ', ' ', ' ', ' '], 'then', [2, 'win']],\n",
       "     ['if', ['x', 'x', ' ', 'o', ' ', 'o', ' ', ' ', ' '], 'then', [2, 'win']],\n",
       "     ['if', ['x', 'x', ' ', 'o', ' ', ' ', 'o', ' ', ' '], 'then', [2, 'win']],\n",
       "     ['if', ['x', 'x', ' ', 'o', ' ', ' ', ' ', 'o', ' '], 'then', [2, 'win']],\n",
       "     ['if',\n",
       "      ['x', 'x', ' ', 'o', ' ', ' ', ' ', ' ', 'o'],\n",
       "      'then',\n",
       "      [2, 'win']]]]],\n",
       "  ['if',\n",
       "   ['x', ' ', ' ', ' ', 'o', ' ', ' ', ' ', ' '],\n",
       "   'then',\n",
       "   [1,\n",
       "    [['if',\n",
       "      ['x', 'x', 'o', ' ', 'o', ' ', ' ', ' ', ' '],\n",
       "      'then',\n",
       "      [6,\n",
       "       [['if',\n",
       "         ['x', 'x', 'o', 'o', 'o', ' ', 'x', ' ', ' '],\n",
       "         'then',\n",
       "         [5,\n",
       "          [['if',\n",
       "            ['x', 'x', 'o', 'o', 'o', 'x', 'x', 'o', ' '],\n",
       "            'then',\n",
       "            [8, 'draw']],\n",
       "           ['if',\n",
       "            ['x', 'x', 'o', 'o', 'o', 'x', 'x', ' ', 'o'],\n",
       "            'then',\n",
       "            [7, 'draw']]]]],\n",
       "        ['if',\n",
       "         ['x', 'x', 'o', ' ', 'o', 'o', 'x', ' ', ' '],\n",
       "         'then',\n",
       "         [3, 'win']],\n",
       "        ['if',\n",
       "         ['x', 'x', 'o', ' ', 'o', ' ', 'x', 'o', ' '],\n",
       "         'then',\n",
       "         [3, 'win']],\n",
       "        ['if',\n",
       "         ['x', 'x', 'o', ' ', 'o', ' ', 'x', ' ', 'o'],\n",
       "         'then',\n",
       "         [3, 'win']]]]],\n",
       "     ['if', ['x', 'x', ' ', 'o', 'o', ' ', ' ', ' ', ' '], 'then', [2, 'win']],\n",
       "     ['if', ['x', 'x', ' ', ' ', 'o', 'o', ' ', ' ', ' '], 'then', [2, 'win']],\n",
       "     ['if', ['x', 'x', ' ', ' ', 'o', ' ', 'o', ' ', ' '], 'then', [2, 'win']],\n",
       "     ['if', ['x', 'x', ' ', ' ', 'o', ' ', ' ', 'o', ' '], 'then', [2, 'win']],\n",
       "     ['if',\n",
       "      ['x', 'x', ' ', ' ', 'o', ' ', ' ', ' ', 'o'],\n",
       "      'then',\n",
       "      [2, 'win']]]]],\n",
       "  ['if',\n",
       "   ['x', ' ', ' ', ' ', ' ', 'o', ' ', ' ', ' '],\n",
       "   'then',\n",
       "   [2,\n",
       "    [['if',\n",
       "      ['x', 'o', 'x', ' ', ' ', 'o', ' ', ' ', ' '],\n",
       "      'then',\n",
       "      [3,\n",
       "       [['if',\n",
       "         ['x', 'o', 'x', 'x', 'o', 'o', ' ', ' ', ' '],\n",
       "         'then',\n",
       "         [6, 'win']],\n",
       "        ['if',\n",
       "         ['x', 'o', 'x', 'x', ' ', 'o', 'o', ' ', ' '],\n",
       "         'then',\n",
       "         [4,\n",
       "          [['if',\n",
       "            ['x', 'o', 'x', 'x', 'x', 'o', 'o', 'o', ' '],\n",
       "            'then',\n",
       "            [8, 'win']],\n",
       "           ['if',\n",
       "            ['x', 'o', 'x', 'x', 'x', 'o', 'o', ' ', 'o'],\n",
       "            'then',\n",
       "            [7, 'draw']]]]],\n",
       "        ['if',\n",
       "         ['x', 'o', 'x', 'x', ' ', 'o', ' ', 'o', ' '],\n",
       "         'then',\n",
       "         [4,\n",
       "          [['if',\n",
       "            ['x', 'o', 'x', 'x', 'x', 'o', 'o', 'o', ' '],\n",
       "            'then',\n",
       "            [8, 'win']],\n",
       "           ['if',\n",
       "            ['x', 'o', 'x', 'x', 'x', 'o', ' ', 'o', 'o'],\n",
       "            'then',\n",
       "            [6, 'win']]]]],\n",
       "        ['if',\n",
       "         ['x', 'o', 'x', 'x', ' ', 'o', ' ', ' ', 'o'],\n",
       "         'then',\n",
       "         [4,\n",
       "          [['if',\n",
       "            ['x', 'o', 'x', 'x', 'x', 'o', 'o', ' ', 'o'],\n",
       "            'then',\n",
       "            [7, 'draw']],\n",
       "           ['if',\n",
       "            ['x', 'o', 'x', 'x', 'x', 'o', ' ', 'o', 'o'],\n",
       "            'then',\n",
       "            [6, 'win']]]]]]]],\n",
       "     ['if', ['x', ' ', 'x', 'o', ' ', 'o', ' ', ' ', ' '], 'then', [1, 'win']],\n",
       "     ['if', ['x', ' ', 'x', ' ', 'o', 'o', ' ', ' ', ' '], 'then', [1, 'win']],\n",
       "     ['if', ['x', ' ', 'x', ' ', ' ', 'o', 'o', ' ', ' '], 'then', [1, 'win']],\n",
       "     ['if', ['x', ' ', 'x', ' ', ' ', 'o', ' ', 'o', ' '], 'then', [1, 'win']],\n",
       "     ['if',\n",
       "      ['x', ' ', 'x', ' ', ' ', 'o', ' ', ' ', 'o'],\n",
       "      'then',\n",
       "      [1, 'win']]]]],\n",
       "  ['if',\n",
       "   ['x', ' ', ' ', ' ', ' ', ' ', 'o', ' ', ' '],\n",
       "   'then',\n",
       "   [1,\n",
       "    [['if',\n",
       "      ['x', 'x', 'o', ' ', ' ', ' ', 'o', ' ', ' '],\n",
       "      'then',\n",
       "      [4,\n",
       "       [['if',\n",
       "         ['x', 'x', 'o', 'o', 'x', ' ', 'o', ' ', ' '],\n",
       "         'then',\n",
       "         [5,\n",
       "          [['if',\n",
       "            ['x', 'x', 'o', 'o', 'x', 'x', 'o', 'o', ' '],\n",
       "            'then',\n",
       "            [8, 'win']],\n",
       "           ['if',\n",
       "            ['x', 'x', 'o', 'o', 'x', 'x', 'o', ' ', 'o'],\n",
       "            'then',\n",
       "            [7, 'win']]]]],\n",
       "        ['if',\n",
       "         ['x', 'x', 'o', ' ', 'x', 'o', 'o', ' ', ' '],\n",
       "         'then',\n",
       "         [7, 'win']],\n",
       "        ['if',\n",
       "         ['x', 'x', 'o', ' ', 'x', ' ', 'o', 'o', ' '],\n",
       "         'then',\n",
       "         [8, 'win']],\n",
       "        ['if',\n",
       "         ['x', 'x', 'o', ' ', 'x', ' ', 'o', ' ', 'o'],\n",
       "         'then',\n",
       "         [7, 'win']]]]],\n",
       "     ['if', ['x', 'x', ' ', 'o', ' ', ' ', 'o', ' ', ' '], 'then', [2, 'win']],\n",
       "     ['if', ['x', 'x', ' ', ' ', 'o', ' ', 'o', ' ', ' '], 'then', [2, 'win']],\n",
       "     ['if', ['x', 'x', ' ', ' ', ' ', 'o', 'o', ' ', ' '], 'then', [2, 'win']],\n",
       "     ['if', ['x', 'x', ' ', ' ', ' ', ' ', 'o', 'o', ' '], 'then', [2, 'win']],\n",
       "     ['if',\n",
       "      ['x', 'x', ' ', ' ', ' ', ' ', 'o', ' ', 'o'],\n",
       "      'then',\n",
       "      [2, 'win']]]]],\n",
       "  ['if',\n",
       "   ['x', ' ', ' ', ' ', ' ', ' ', ' ', 'o', ' '],\n",
       "   'then',\n",
       "   [1,\n",
       "    [['if',\n",
       "      ['x', 'x', 'o', ' ', ' ', ' ', ' ', 'o', ' '],\n",
       "      'then',\n",
       "      [6,\n",
       "       [['if',\n",
       "         ['x', 'x', 'o', 'o', ' ', ' ', 'x', 'o', ' '],\n",
       "         'then',\n",
       "         [4,\n",
       "          [['if',\n",
       "            ['x', 'x', 'o', 'o', 'x', 'o', 'x', 'o', ' '],\n",
       "            'then',\n",
       "            [8, 'win']],\n",
       "           ['if',\n",
       "            ['x', 'x', 'o', 'o', 'x', ' ', 'x', 'o', 'o'],\n",
       "            'then',\n",
       "            [5, 'draw']]]]],\n",
       "        ['if',\n",
       "         ['x', 'x', 'o', ' ', 'o', ' ', 'x', 'o', ' '],\n",
       "         'then',\n",
       "         [3, 'win']],\n",
       "        ['if',\n",
       "         ['x', 'x', 'o', ' ', ' ', 'o', 'x', 'o', ' '],\n",
       "         'then',\n",
       "         [3, 'win']],\n",
       "        ['if',\n",
       "         ['x', 'x', 'o', ' ', ' ', ' ', 'x', 'o', 'o'],\n",
       "         'then',\n",
       "         [3, 'win']]]]],\n",
       "     ['if', ['x', 'x', ' ', 'o', ' ', ' ', ' ', 'o', ' '], 'then', [2, 'win']],\n",
       "     ['if', ['x', 'x', ' ', ' ', 'o', ' ', ' ', 'o', ' '], 'then', [2, 'win']],\n",
       "     ['if', ['x', 'x', ' ', ' ', ' ', 'o', ' ', 'o', ' '], 'then', [2, 'win']],\n",
       "     ['if', ['x', 'x', ' ', ' ', ' ', ' ', 'o', 'o', ' '], 'then', [2, 'win']],\n",
       "     ['if',\n",
       "      ['x', 'x', ' ', ' ', ' ', ' ', ' ', 'o', 'o'],\n",
       "      'then',\n",
       "      [2, 'win']]]]],\n",
       "  ['if',\n",
       "   ['x', ' ', ' ', ' ', ' ', ' ', ' ', ' ', 'o'],\n",
       "   'then',\n",
       "   [2,\n",
       "    [['if',\n",
       "      ['x', 'o', 'x', ' ', ' ', ' ', ' ', ' ', 'o'],\n",
       "      'then',\n",
       "      [3,\n",
       "       [['if',\n",
       "         ['x', 'o', 'x', 'x', 'o', ' ', ' ', ' ', 'o'],\n",
       "         'then',\n",
       "         [6, 'win']],\n",
       "        ['if',\n",
       "         ['x', 'o', 'x', 'x', ' ', 'o', ' ', ' ', 'o'],\n",
       "         'then',\n",
       "         [4,\n",
       "          [['if',\n",
       "            ['x', 'o', 'x', 'x', 'x', 'o', 'o', ' ', 'o'],\n",
       "            'then',\n",
       "            [7, 'draw']],\n",
       "           ['if',\n",
       "            ['x', 'o', 'x', 'x', 'x', 'o', ' ', 'o', 'o'],\n",
       "            'then',\n",
       "            [6, 'win']]]]],\n",
       "        ['if',\n",
       "         ['x', 'o', 'x', 'x', ' ', ' ', 'o', ' ', 'o'],\n",
       "         'then',\n",
       "         [7,\n",
       "          [['if',\n",
       "            ['x', 'o', 'x', 'x', 'o', ' ', 'o', 'x', 'o'],\n",
       "            'then',\n",
       "            [5, 'draw']],\n",
       "           ['if',\n",
       "            ['x', 'o', 'x', 'x', ' ', 'o', 'o', 'x', 'o'],\n",
       "            'then',\n",
       "            [4, 'draw']]]]],\n",
       "        ['if',\n",
       "         ['x', 'o', 'x', 'x', ' ', ' ', ' ', 'o', 'o'],\n",
       "         'then',\n",
       "         [6, 'win']]]]],\n",
       "     ['if', ['x', ' ', 'x', 'o', ' ', ' ', ' ', ' ', 'o'], 'then', [1, 'win']],\n",
       "     ['if', ['x', ' ', 'x', ' ', 'o', ' ', ' ', ' ', 'o'], 'then', [1, 'win']],\n",
       "     ['if', ['x', ' ', 'x', ' ', ' ', 'o', ' ', ' ', 'o'], 'then', [1, 'win']],\n",
       "     ['if', ['x', ' ', 'x', ' ', ' ', ' ', 'o', ' ', 'o'], 'then', [1, 'win']],\n",
       "     ['if',\n",
       "      ['x', ' ', 'x', ' ', ' ', ' ', ' ', 'o', 'o'],\n",
       "      'then',\n",
       "      [1, 'win']]]]]]]"
      ]
     },
     "metadata": {},
     "output_type": "display_data"
    },
    {
     "name": "stdout",
     "output_type": "stream",
     "text": [
      "CPU times: total: 46.9 ms\n",
      "Wall time: 59.9 ms\n"
     ]
    }
   ],
   "source": [
    "board = empty_board() \n",
    "\n",
    "print(\"Board:\")\n",
    "show_board(board)\n",
    "\n",
    "print()\n",
    "print(\"Win or draw:\")\n",
    "%time display(and_or_search(board, player = 'x', draw_is_win = True))"
   ]
  },
  {
   "cell_type": "code",
   "execution_count": 11,
   "metadata": {},
   "outputs": [
    {
     "name": "stdout",
     "output_type": "stream",
     "text": [
      "Win only:\n",
      "Number of nodes searched: 16213\n"
     ]
    },
    {
     "data": {
      "text/plain": [
       "None"
      ]
     },
     "metadata": {},
     "output_type": "display_data"
    },
    {
     "name": "stdout",
     "output_type": "stream",
     "text": [
      "CPU times: total: 484 ms\n",
      "Wall time: 469 ms\n"
     ]
    }
   ],
   "source": [
    "print(\"Win only:\")\n",
    "%time display(and_or_search(board, player = 'x', draw_is_win = False))"
   ]
  },
  {
   "cell_type": "markdown",
   "metadata": {},
   "source": [
    "## Experiments\n",
    "\n",
    "### And-Or Tree Search vs. Random\n",
    "\n",
    "Put AND-OR search into a wrapper agent function. Note that if AND-OR search cannot guarantee a win then\n",
    "it does not return a plan, nut `None`. In this case, we do not know what the best (i.e., the least \"bad\") \n",
    "move is, so I make the agent play randomly. Other methods that we will learn about later can determine the utility of a move, even if it does not guarantee a win."
   ]
  },
  {
   "cell_type": "code",
   "execution_count": 12,
   "metadata": {},
   "outputs": [
    {
     "name": "stdout",
     "output_type": "stream",
     "text": [
      "and-or-search vs. random:\n"
     ]
    },
    {
     "data": {
      "text/plain": [
       "{'x': 90, 'o': 0, 'd': 10}"
      ]
     },
     "metadata": {},
     "output_type": "display_data"
    },
    {
     "name": "stdout",
     "output_type": "stream",
     "text": [
      "CPU times: total: 3.42 s\n",
      "Wall time: 3.44 s\n",
      "\n",
      "random vs. and-or-search\n"
     ]
    },
    {
     "data": {
      "text/plain": [
       "{'x': 0, 'o': 71, 'd': 29}"
      ]
     },
     "metadata": {},
     "output_type": "display_data"
    },
    {
     "name": "stdout",
     "output_type": "stream",
     "text": [
      "CPU times: total: 4.8 s\n",
      "Wall time: 4.84 s\n"
     ]
    }
   ],
   "source": [
    "DEBUG = 0\n",
    "\n",
    "def and_or_player(board, player = 'x'):\n",
    "    plan = and_or_search(board, player)\n",
    "\n",
    "    # if there is no plan then we do a random action\n",
    "    if plan is None: \n",
    "        return np.random.choice(actions(board))\n",
    "    else:\n",
    "        return plan[0]\n",
    "\n",
    "\n",
    "print(\"and-or-search vs. random:\")\n",
    "%time display(play(and_or_player, random_player))\n",
    "\n",
    "print()\n",
    "print(\"random vs. and-or-search\")\n",
    "%time display(play(random_player, and_or_player))"
   ]
  },
  {
   "cell_type": "markdown",
   "metadata": {},
   "source": [
    "**Note how slow this is!**\n",
    "\n",
    "My lazy implementation is a _simple reflex agent_ that recreates a conditional plan every time it is asked for an action. ut since And-Or search already produces a complete conditional plan for the empty board, a better implementation would use a _model-based reflex agent_ that store this precomputed plan and just follow it without more planing."
   ]
  },
  {
   "cell_type": "markdown",
   "metadata": {},
   "source": [
    "### And-Or Tree Search vs. And-Or Tree Search"
   ]
  },
  {
   "cell_type": "code",
   "execution_count": 13,
   "metadata": {
    "tags": []
   },
   "outputs": [
    {
     "data": {
      "text/plain": [
       "{'x': 0, 'o': 0, 'd': 1}"
      ]
     },
     "metadata": {},
     "output_type": "display_data"
    },
    {
     "name": "stdout",
     "output_type": "stream",
     "text": [
      "CPU times: total: 93.8 ms\n",
      "Wall time: 96.2 ms\n"
     ]
    }
   ],
   "source": [
    "# No randomness -> run only once\n",
    "\n",
    "%time display(play(and_or_player, and_or_player, N = 1))"
   ]
  }
 ],
 "metadata": {
  "kernelspec": {
   "display_name": ".venv",
   "language": "python",
   "name": "python3"
  },
  "language_info": {
   "codemirror_mode": {
    "name": "ipython",
    "version": 3
   },
   "file_extension": ".py",
   "mimetype": "text/x-python",
   "name": "python",
   "nbconvert_exporter": "python",
   "pygments_lexer": "ipython3",
   "version": "3.10.10"
  }
 },
 "nbformat": 4,
 "nbformat_minor": 4
}
